{
 "cells": [
  {
   "cell_type": "code",
   "execution_count": 1,
   "metadata": {
    "ExecuteTime": {
     "end_time": "2019-05-30T01:17:15.198374Z",
     "start_time": "2019-05-30T01:17:15.193251Z"
    }
   },
   "outputs": [
    {
     "name": "stdout",
     "output_type": "stream",
     "text": [
      "2019-08-21 16:06:54\n"
     ]
    }
   ],
   "source": [
    "from __future__ import division\n",
    "\n",
    "import numpy as np\n",
    "import xgboost as xgb\n",
    "import pickle\n",
    "import pandas as pd\n",
    "\n",
    "import matplotlib.pyplot as plt\n",
    "import matplotlib\n",
    "\n",
    "from tqdm import tqdm\n",
    "import printTime as pt\n",
    "\n",
    "import warnings\n",
    "import random\n",
    "\n",
    "from scipy import sparse\n",
    "from scipy.sparse import csr_matrix, hstack, vstack\n",
    "from sklearn import preprocessing\n",
    "\n",
    "warnings.filterwarnings('ignore')\n",
    "pt.printTime()"
   ]
  },
  {
   "cell_type": "code",
   "execution_count": 2,
   "metadata": {},
   "outputs": [],
   "source": [
    "trainData752 = sparse.load_npz('../trainTestData/trainData752.npz')\n",
    "testData752 = sparse.load_npz('../trainTestData/testData752.npz')"
   ]
  },
  {
   "cell_type": "code",
   "execution_count": 3,
   "metadata": {},
   "outputs": [],
   "source": [
    "trainData30 = sparse.load_npz('../trainTestData/trainData30.npz')\n",
    "testData30 = sparse.load_npz('../trainTestData/testData30.npz')"
   ]
  },
  {
   "cell_type": "code",
   "execution_count": 4,
   "metadata": {},
   "outputs": [],
   "source": [
    "trainData4000 = sparse.load_npz('../trainTestData/trainData4000.npz')\n",
    "testData4000 = sparse.load_npz('../trainTestData/testData4000.npz')"
   ]
  },
  {
   "cell_type": "code",
   "execution_count": 5,
   "metadata": {},
   "outputs": [],
   "source": [
    "trainData60 = sparse.load_npz('../trainTestData/trainData60.npz')\n",
    "testData60 = sparse.load_npz('../trainTestData/testData60.npz')"
   ]
  },
  {
   "cell_type": "code",
   "execution_count": 7,
   "metadata": {},
   "outputs": [],
   "source": [
    "trainData3000 = sparse.load_npz('../trainTestData/trainData3000.npz')\n",
    "testData3000 = sparse.load_npz('../trainTestData/testData3000.npz')"
   ]
  },
  {
   "cell_type": "code",
   "execution_count": 8,
   "metadata": {},
   "outputs": [],
   "source": [
    "trainData5000 = sparse.load_npz('../trainTestData/trainData5000.npz')\n",
    "testData5000 = sparse.load_npz('../trainTestData/testData5000.npz')"
   ]
  },
  {
   "cell_type": "code",
   "execution_count": 9,
   "metadata": {},
   "outputs": [],
   "source": [
    "trainData258 = sparse.load_npz('../trainTestData/trainData258.npz')\n",
    "testData258 = sparse.load_npz('../trainTestData/testData258.npz')"
   ]
  },
  {
   "cell_type": "code",
   "execution_count": 10,
   "metadata": {},
   "outputs": [],
   "source": [
    "trainData13100 = hstack((trainData752, trainData30, trainData4000, trainData60, trainData3000, trainData5000, trainData258), format='csr')\n",
    "testData13100 = hstack((testData752, testData30, testData4000, testData60, testData3000, testData5000, testData258), format='csr')"
   ]
  },
  {
   "cell_type": "code",
   "execution_count": 11,
   "metadata": {},
   "outputs": [],
   "source": [
    "sparse.save_npz('../trainTestData/trainData13100.npz',trainData13100)\n",
    "sparse.save_npz('../trainTestData/testData13100.npz',testData13100)"
   ]
  },
  {
   "cell_type": "code",
   "execution_count": 12,
   "metadata": {},
   "outputs": [],
   "source": [
    "trainData10000 = sparse.load_npz('../trainTestData/trainData10000.npz')\n",
    "testData10000 = sparse.load_npz('../trainTestData/testData10000.npz')"
   ]
  },
  {
   "cell_type": "code",
   "execution_count": 13,
   "metadata": {},
   "outputs": [],
   "source": [
    "trainData23100 = hstack((trainData13100, trainData10000), format='csr')\n",
    "testData23100 = hstack((testData13100, testData10000), format='csr')"
   ]
  },
  {
   "cell_type": "code",
   "execution_count": 14,
   "metadata": {},
   "outputs": [],
   "source": [
    "sparse.save_npz('../trainTestData/trainData23100.npz',trainData23100)\n",
    "sparse.save_npz('../trainTestData/testData23100.npz',testData23100)"
   ]
  },
  {
   "cell_type": "code",
   "execution_count": 15,
   "metadata": {},
   "outputs": [
    {
     "name": "stdout",
     "output_type": "stream",
     "text": [
      "2019-08-21 16:35:16\n"
     ]
    }
   ],
   "source": [
    "pt.printTime()"
   ]
  },
  {
   "cell_type": "code",
   "execution_count": null,
   "metadata": {},
   "outputs": [],
   "source": []
  }
 ],
 "metadata": {
  "kernelspec": {
   "display_name": "diagnosis",
   "language": "python",
   "name": "diagnosis"
  },
  "language_info": {
   "codemirror_mode": {
    "name": "ipython",
    "version": 3
   },
   "file_extension": ".py",
   "mimetype": "text/x-python",
   "name": "python",
   "nbconvert_exporter": "python",
   "pygments_lexer": "ipython3",
   "version": "3.7.1"
  },
  "toc": {
   "base_numbering": 1,
   "nav_menu": {
    "height": "128px",
    "width": "186px"
   },
   "number_sections": true,
   "sideBar": true,
   "skip_h1_title": false,
   "title_cell": "Table of Contents",
   "title_sidebar": "Contents",
   "toc_cell": false,
   "toc_position": {},
   "toc_section_display": true,
   "toc_window_display": false
  },
  "varInspector": {
   "cols": {
    "lenName": 16,
    "lenType": 16,
    "lenVar": 40
   },
   "kernels_config": {
    "python": {
     "delete_cmd_postfix": "",
     "delete_cmd_prefix": "del ",
     "library": "var_list.py",
     "varRefreshCmd": "print(var_dic_list())"
    },
    "r": {
     "delete_cmd_postfix": ") ",
     "delete_cmd_prefix": "rm(",
     "library": "var_list.r",
     "varRefreshCmd": "cat(var_dic_list()) "
    }
   },
   "types_to_exclude": [
    "module",
    "function",
    "builtin_function_or_method",
    "instance",
    "_Feature"
   ],
   "window_display": false
  }
 },
 "nbformat": 4,
 "nbformat_minor": 2
}
