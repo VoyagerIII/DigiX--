{
 "cells": [
  {
   "cell_type": "code",
   "execution_count": null,
   "metadata": {
    "ExecuteTime": {
     "end_time": "2019-05-30T01:17:15.198374Z",
     "start_time": "2019-05-30T01:17:15.193251Z"
    }
   },
   "outputs": [],
   "source": [
    "###########################\n",
    "#   -*- coding: utf-8 -*- #\n",
    "# PHM_data_challenge_2019 #\n",
    "#     Author: Huet Zhu    #\n",
    "#       Date:2019.5       #\n",
    "#    All Rights Reserved  #\n",
    "###########################\n",
    "\n",
    "# # 基于机器学习的飞控系统故障诊断方案设计\n",
    "from __future__ import division\n",
    "\n",
    "import numpy as np\n",
    "import thundergbm\n",
    "import pickle\n",
    "import pandas as pd\n",
    "\n",
    "import matplotlib.pyplot as plt\n",
    "import matplotlib\n",
    "\n",
    "from sklearn.tree import DecisionTreeRegressor  \n",
    "from sklearn.ensemble import RandomForestClassifier\n",
    "from sklearn.model_selection  import train_test_split\n",
    "import numpy as np  \n",
    "\n",
    "from tqdm import tqdm\n",
    "\n",
    "import gc\n",
    "\n",
    "from scipy import sparse\n",
    "from scipy.sparse import csr_matrix, hstack, vstack\n",
    "\n",
    "import warnings\n",
    "import random\n",
    "warnings.filterwarnings('ignore')"
   ]
  },
  {
   "cell_type": "code",
   "execution_count": null,
   "metadata": {
    "scrolled": true
   },
   "outputs": [],
   "source": [
    "age_test = pd.read_csv(\"../data/age_test.csv\", header = None)\n",
    "age_train = pd.read_csv(\"../data/age_train.csv\", header = None)"
   ]
  },
  {
   "cell_type": "code",
   "execution_count": null,
   "metadata": {},
   "outputs": [],
   "source": [
    "csr_trainData = sparse.load_npz('../trainTestData/trainData13100.npz')\n",
    "csr_trainData = csr_trainData[:, :2100]\n",
    "csr_trainData.shape"
   ]
  },
  {
   "cell_type": "markdown",
   "metadata": {},
   "source": [
    "# 随机森林"
   ]
  },
  {
   "cell_type": "code",
   "execution_count": null,
   "metadata": {},
   "outputs": [],
   "source": [
    "k_fold = [[0, int(csr_trainData.shape[0]*0.5)],\n",
    "          [int(csr_trainData.shape[0]*0.5),  int(csr_trainData.shape[0])],\n",
    "          [0, int(csr_trainData.shape[0]*0.5)],\n",
    "          [int(csr_trainData.shape[0]*0.5),  int(csr_trainData.shape[0])],\n",
    "          [0, int(csr_trainData.shape[0]*0.5)],\n",
    "          [int(csr_trainData.shape[0]*0.5),  int(csr_trainData.shape[0])],]\n",
    "# k_fold = [[0, int(csr_trainData.shape[0]*0.2)],\n",
    "#           [int(csr_trainData.shape[0]*0.2), int(csr_trainData.shape[0]*0.4)], \n",
    "#           [int(csr_trainData.shape[0]*0.4), int(csr_trainData.shape[0]*0.6)],\n",
    "#           [int(csr_trainData.shape[0]*0.6), int(csr_trainData.shape[0]*0.8)],\n",
    "#           [int(csr_trainData.shape[0]*0.8), int(csr_trainData.shape[0])]]\n",
    "# k=0\n",
    "# trainData, valData, trainLabel, valLabel = train_test_split(csr_trainData[k_fold[k][0]:k_fold[k][1]], \n",
    "#                                                             age_train.iloc[k_fold[k][0]:k_fold[k][1], 1].values, \n",
    "#                                                             test_size=0.1,\n",
    "#                                                             random_state=k)\n",
    "# trainData.shape, valData.shape"
   ]
  },
  {
   "cell_type": "code",
   "execution_count": null,
   "metadata": {},
   "outputs": [],
   "source": [
    "k=5\n",
    "clf = thundergbm.TGBMClassifier(bagging=1, lambda_tgbm=1, learning_rate=0.07, min_child_weight=1.2, n_gpus=1, verbose=0,\n",
    "                            n_parallel_trees=40, gamma=0.2, depth=7, n_trees=4000, tree_method='auto', objective='multi:softmax')"
   ]
  },
  {
   "cell_type": "code",
   "execution_count": null,
   "metadata": {},
   "outputs": [],
   "source": [
    "clf.fit(csr_trainData[k_fold[k][0]:k_fold[k][1]],  age_train.iloc[k_fold[k][0]:k_fold[k][1], 1].values)\n",
    "clf.save_model('../model/rf_part_'+str(k)+'.model')"
   ]
  },
  {
   "cell_type": "code",
   "execution_count": null,
   "metadata": {},
   "outputs": [],
   "source": [
    "k=5-k"
   ]
  },
  {
   "cell_type": "code",
   "execution_count": null,
   "metadata": {},
   "outputs": [],
   "source": [
    "clf.score(csr_trainData[k_fold[k][0]:k_fold[k][1]],  age_train.iloc[k_fold[k][0]:k_fold[k][1], 1].values)"
   ]
  },
  {
   "cell_type": "code",
   "execution_count": null,
   "metadata": {},
   "outputs": [],
   "source": [
    "clf.load_model('../model/rf_part_'+str(k)+'.model')\n",
    "clf.score(csr_trainData[k_fold[k][0]:k_fold[k][1]],  age_train.iloc[k_fold[k][0]:k_fold[k][1], 1].values)"
   ]
  },
  {
   "cell_type": "code",
   "execution_count": null,
   "metadata": {},
   "outputs": [],
   "source": [
    "predict_sigal = clf.predict(csr_trainData[k_fold[k][0]:k_fold[k][1]])"
   ]
  },
  {
   "cell_type": "markdown",
   "metadata": {},
   "source": [
    "# stacking 数据准备"
   ]
  },
  {
   "cell_type": "code",
   "execution_count": null,
   "metadata": {},
   "outputs": [],
   "source": [
    "trainData = sparse.load_npz('../trainTestData/csr_trainData13100.npz')\n",
    "testData = sparse.load_npz('../trainTestData/csr_testData13100.npz')\n",
    "trainData = trainData[:, :2100]\n",
    "testData = testData[:, :2100]\n",
    "trainData.shape, testData.shape"
   ]
  },
  {
   "cell_type": "code",
   "execution_count": null,
   "metadata": {},
   "outputs": [],
   "source": [
    "clf = thundergbm.TGBMClassifier(bagging=1, lambda_tgbm=1, learning_rate=0.07, min_child_weight=1.2, n_gpus=1, verbose=0, \n",
    "                            n_parallel_trees=40, gamma=0.2, depth=7, n_trees=4000, tree_method='auto', objective='multi:softmax')"
   ]
  },
  {
   "cell_type": "code",
   "execution_count": null,
   "metadata": {},
   "outputs": [],
   "source": [
    "k_fold = [[0, int(trainData.shape[0]*0.5)],\n",
    "          [int(trainData.shape[0]*0.5),  int(trainData.shape[0])],\n",
    "          [0, int(trainData.shape[0]*0.5)],\n",
    "          [int(trainData.shape[0]*0.5),  int(trainData.shape[0])],\n",
    "          [0, int(trainData.shape[0]*0.5)],\n",
    "          [int(trainData.shape[0]*0.5),  int(trainData.shape[0])],]\n",
    "k_flod_predict = np.zeros((trainData.shape[0], 3))\n",
    "for k in tqdm(range(6)):\n",
    "    valData = trainData[k_fold[5-k][0]:k_fold[5-k][1]]\n",
    "    clf.load_model('../model/rf_part_'+str(k)+'.model')\n",
    "    predict_sigal = clf.predict(valData)\n",
    "\n",
    "    k_flod_predict[k_fold[5-k][0]:k_fold[5-k][1], k//2] = predict_sigal"
   ]
  },
  {
   "cell_type": "code",
   "execution_count": null,
   "metadata": {
    "scrolled": true
   },
   "outputs": [],
   "source": [
    "k_flod_predict = k_flod_predict.astype(int)\n",
    "k_flod_predict"
   ]
  },
  {
   "cell_type": "code",
   "execution_count": null,
   "metadata": {},
   "outputs": [],
   "source": [
    "predict = np.zeros((k_flod_predict.shape[0]))\n",
    "for i in range(k_flod_predict.shape[0]):\n",
    "    predict[i] = np.argmax(np.bincount(k_flod_predict[i]))"
   ]
  },
  {
   "cell_type": "code",
   "execution_count": null,
   "metadata": {},
   "outputs": [],
   "source": [
    "predict = predict.astype(int)\n",
    "predict"
   ]
  },
  {
   "cell_type": "code",
   "execution_count": null,
   "metadata": {},
   "outputs": [],
   "source": [
    "train_stacking_predict = np.zeros((k_flod_predict.shape[0], 6))\n",
    "for i in range(train_stacking_predict.shape[0]):\n",
    "    train_stacking_predict[i, predict[i]-1] = 1"
   ]
  },
  {
   "cell_type": "code",
   "execution_count": null,
   "metadata": {},
   "outputs": [],
   "source": [
    "np.savetxt('../processed/stacking/rf_val.txt', train_stacking_predict, fmt='%s', delimiter=',', newline='\\n')"
   ]
  },
  {
   "cell_type": "markdown",
   "metadata": {},
   "source": [
    "# 预测"
   ]
  },
  {
   "cell_type": "code",
   "execution_count": null,
   "metadata": {},
   "outputs": [],
   "source": [
    "testData = sparse.load_npz('../trainTestData/testData13100.npz')\n",
    "testData = testData[:, :2100]\n",
    "testData.shape"
   ]
  },
  {
   "cell_type": "code",
   "execution_count": null,
   "metadata": {},
   "outputs": [],
   "source": [
    "clf = thundergbm.TGBMClassifier(bagging=1, learning_rate=0.1, min_child_weight=1.2, n_gpus=1,\n",
    "                            n_parallel_trees=40, gamma=0.2, depth=7, n_trees=3000, tree_method='auto', objective='multi:softmax')"
   ]
  },
  {
   "cell_type": "code",
   "execution_count": null,
   "metadata": {
    "scrolled": true
   },
   "outputs": [],
   "source": [
    "k_flod_predict = np.zeros((testData.shape[0], 6))\n",
    "for i in tqdm(range(6)):\n",
    "    clf.load_model('../model/rf_part_'+str(i)+'.model')\n",
    "    predict_sigal =clf.predict(testData)\n",
    "    for j in range(len(predict_sigal)):\n",
    "        k_flod_predict[j, i] = predict_sigal[j]"
   ]
  },
  {
   "cell_type": "code",
   "execution_count": null,
   "metadata": {},
   "outputs": [],
   "source": [
    "k_flod_predict = k_flod_predict.astype(int)\n",
    "k_flod_predict"
   ]
  },
  {
   "cell_type": "code",
   "execution_count": null,
   "metadata": {},
   "outputs": [],
   "source": [
    "predict = np.zeros((k_flod_predict.shape[0]))\n",
    "for i in range(k_flod_predict.shape[0]):\n",
    "    predict[i] = np.argmax(np.bincount(k_flod_predict[i]))\n",
    "predict = predict.astype(int)"
   ]
  },
  {
   "cell_type": "code",
   "execution_count": null,
   "metadata": {},
   "outputs": [],
   "source": [
    "np.savetxt('../processed/stacking/rf_test.txt', test_stacking_predict, fmt='%s', delimiter=',', newline='\\n')"
   ]
  },
  {
   "cell_type": "code",
   "execution_count": null,
   "metadata": {},
   "outputs": [],
   "source": []
  }
 ],
 "metadata": {
  "kernelspec": {
   "display_name": "Python (mask_rcnn)",
   "language": "python",
   "name": "mask_rcnn"
  },
  "language_info": {
   "codemirror_mode": {
    "name": "ipython",
    "version": 3
   },
   "file_extension": ".py",
   "mimetype": "text/x-python",
   "name": "python",
   "nbconvert_exporter": "python",
   "pygments_lexer": "ipython3",
   "version": "3.5.5"
  },
  "toc": {
   "base_numbering": 1,
   "nav_menu": {
    "height": "128px",
    "width": "186px"
   },
   "number_sections": true,
   "sideBar": true,
   "skip_h1_title": false,
   "title_cell": "Table of Contents",
   "title_sidebar": "Contents",
   "toc_cell": false,
   "toc_position": {},
   "toc_section_display": true,
   "toc_window_display": false
  },
  "varInspector": {
   "cols": {
    "lenName": 16,
    "lenType": 16,
    "lenVar": 40
   },
   "kernels_config": {
    "python": {
     "delete_cmd_postfix": "",
     "delete_cmd_prefix": "del ",
     "library": "var_list.py",
     "varRefreshCmd": "print(var_dic_list())"
    },
    "r": {
     "delete_cmd_postfix": ") ",
     "delete_cmd_prefix": "rm(",
     "library": "var_list.r",
     "varRefreshCmd": "cat(var_dic_list()) "
    }
   },
   "types_to_exclude": [
    "module",
    "function",
    "builtin_function_or_method",
    "instance",
    "_Feature"
   ],
   "window_display": false
  }
 },
 "nbformat": 4,
 "nbformat_minor": 2
}
