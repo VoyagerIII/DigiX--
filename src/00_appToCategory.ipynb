{
 "cells": [
  {
   "cell_type": "markdown",
   "metadata": {},
   "source": [
    "# 数据准备部分"
   ]
  },
  {
   "cell_type": "code",
   "execution_count": 1,
   "metadata": {},
   "outputs": [],
   "source": [
    "import numpy as np\n",
    "import pandas as pd\n",
    "from sklearn.impute import SimpleImputer\n",
    "import re\n",
    "import gc\n",
    "from tqdm import tqdm"
   ]
  },
  {
   "cell_type": "code",
   "execution_count": 2,
   "metadata": {
    "collapsed": true
   },
   "outputs": [
    {
     "name": "stdout",
     "output_type": "stream",
     "text": [
      "(2010000, 1)\n",
      "(502500, 1)\n"
     ]
    }
   ],
   "source": [
    "age_test_data = pd.read_csv(r'../data/age_test.csv',header=None,names=['uId'])\n",
    "age_train_data = pd.read_csv( r'../data/age_train.csv',header=None,names=['uId','age_group'])\n",
    "age = age_train_data['age_group']\n",
    "age_train_data.drop(columns=['age_group'],inplace=True)\n",
    "print(age_train_data.shape)     #(2010000, 1)\n",
    "print(age_test_data.shape)"
   ]
  },
  {
   "cell_type": "code",
   "execution_count": 3,
   "metadata": {
    "collapsed": true
   },
   "outputs": [
    {
     "name": "stdout",
     "output_type": "stream",
     "text": [
      "       uId                                              appId\n",
      "0  1000008  a00105157#a00109386#a00134746#a0013952#a001451...\n",
      "1  1000010  a00102782#a00107077#a00109386#a00134746#a00136...\n",
      "2  1000011  a00158535#a00163116#a00170432#a00187480#a00224...\n",
      "3  1000013  a00109386#a0011601#a0012768#a00136287#a0014516...\n",
      "4  1000014  a00109386#a0011894#a0013059#a00134840#a0013578...\n",
      "(2512500, 2)\n"
     ]
    }
   ],
   "source": [
    "user_app_actived_data = pd.read_csv(r'../data/user_app_actived.csv',header=None,names=['uId','appId'])\n",
    "print(user_app_actived_data.head());print(user_app_actived_data.shape)"
   ]
  },
  {
   "cell_type": "code",
   "execution_count": 4,
   "metadata": {},
   "outputs": [
    {
     "name": "stderr",
     "output_type": "stream",
     "text": [
      "100%|██████████| 2512500/2512500 [01:03<00:00, 39287.42it/s] \n"
     ]
    }
   ],
   "source": [
    "user_numAppList = {} # {uId:[num,appList]}\n",
    "for user in tqdm(user_app_actived_data.values):\n",
    "    appList = re.split(r'\\#',user[1])\n",
    "    if appList[0] == '\\\\N':\n",
    "        user_numAppList[user[0]] = []\n",
    "        l = 0\n",
    "    else:\n",
    "        user_numAppList[user[0]] = appList\n",
    "        l = len(appList)\n",
    "    user_numAppList[user[0]].insert(0,l)\n",
    "# print(user_numAppList[1002181])\n",
    "# print(user_numAppList[1002179])"
   ]
  },
  {
   "cell_type": "code",
   "execution_count": 5,
   "metadata": {
    "collapsed": true
   },
   "outputs": [
    {
     "data": {
      "text/plain": [
       "7"
      ]
     },
     "execution_count": 5,
     "metadata": {},
     "output_type": "execute_result"
    }
   ],
   "source": [
    "del user_app_actived_data\n",
    "gc.collect()"
   ]
  },
  {
   "cell_type": "code",
   "execution_count": 6,
   "metadata": {
    "collapsed": true
   },
   "outputs": [
    {
     "name": "stdout",
     "output_type": "stream",
     "text": [
      "Index(['实用工具', '便捷生活', '教育', '金融理财', '购物比价', '社交通讯', '影音娱乐', '新闻阅读', '休闲益智',\n",
      "       '商务', '运动健康', '出行导航', '经营策略', '动作射击', '儿童', '角色扮演', '拍摄美化', '棋牌桌游',\n",
      "       '旅游住宿', '汽车', '主题个性', '美食', '体育竞速', '网络游戏', '休闲游戏', '动作冒险', '休闲娱乐',\n",
      "       '学习办公', '表盘个性', '益智棋牌', '策略游戏', '电子书籍', '模拟游戏', '图书阅读', '棋牌天地', '体育射击',\n",
      "       '角色游戏', '主题铃声', '医疗健康', '合作壁纸*'],\n",
      "      dtype='object')\n",
      "[57608 20164 14348 11842 10400 10048  7996  7946  7862  6237  5139  3712\n",
      "  3661  3448  3246  3196  3176  2876  1524  1315  1091  1003   789   128\n",
      "    31    10    10     9     6     6     5     5     5     4     4     4\n",
      "     3     3     2     2]\n",
      "总共有多少个app:    167622\n"
     ]
    }
   ],
   "source": [
    "app_info_data = pd.read_csv(r'../data/app_info.csv',header=None,names=['appId','category'])\n",
    "data = app_info_data['category'].value_counts(dropna=False)\n",
    "print(data.index)\n",
    "print(data.values)\n",
    "app_category = {} #{appId:[category]}\n",
    "for aid in app_info_data.values:\n",
    "    app_category.setdefault(aid[0],[]).append(aid[1])\n",
    "print('总共有多少个app:   ',len(app_category))"
   ]
  },
  {
   "cell_type": "code",
   "execution_count": 7,
   "metadata": {
    "collapsed": true
   },
   "outputs": [
    {
     "name": "stdout",
     "output_type": "stream",
     "text": [
      "dict_values([0, 0, 0, 0, 0, 0, 0, 0, 0, 0, 0, 0, 0, 0, 0, 0, 0, 0, 0, 0, 0, 0, 0, 0, 0, 0, 0, 0, 0, 0, 0, 0, 0, 0, 0, 0, 0, 0, 0, 0])\n",
      "Index(['实用工具', '便捷生活', '教育', '金融理财', '购物比价', '社交通讯', '影音娱乐', '新闻阅读', '休闲益智',\n",
      "       '商务', '运动健康', '出行导航', '经营策略', '动作射击', '儿童', '角色扮演', '拍摄美化', '棋牌桌游',\n",
      "       '旅游住宿', '汽车', '主题个性', '美食', '体育竞速', '网络游戏', '休闲游戏', '动作冒险', '休闲娱乐',\n",
      "       '学习办公', '表盘个性', '益智棋牌', '策略游戏', '电子书籍', '模拟游戏', '图书阅读', '棋牌天地', '体育射击',\n",
      "       '角色游戏', '主题铃声', '医疗健康', '合作壁纸*'],\n",
      "      dtype='object')\n"
     ]
    }
   ],
   "source": [
    "category_num = {}\n",
    "def initDict(categorylist):\n",
    "    for cate in categorylist:\n",
    "        category_num[cate] = 0\n",
    "    return category_num\n",
    "categorylist = data.index\n",
    "category_num = initDict(categorylist)\n",
    "print(category_num.values());print(categorylist)"
   ]
  },
  {
   "cell_type": "code",
   "execution_count": 8,
   "metadata": {
    "collapsed": true
   },
   "outputs": [
    {
     "name": "stderr",
     "output_type": "stream",
     "text": [
      "100%|██████████| 2512500/2512500 [11:29<00:00, 3644.91it/s] \n"
     ]
    },
    {
     "name": "stdout",
     "output_type": "stream",
     "text": [
      "        0     1     2     3     4     5     6     7    8     9  ...    30  \\\n",
      "1     16.0   8.0   8.0   1.0   1.0   5.0   7.0   1.0  0.0   1.0 ...   0.0   \n",
      "2     11.0   7.0   6.0   2.0   3.0   3.0   5.0   2.0  0.0   1.0 ...   0.0   \n",
      "3     13.0   5.0   2.0   1.0   0.0   1.0   1.0   1.0  1.0   1.0 ...   0.0   \n",
      "4     23.0  10.0   4.0   2.0   6.0   7.0   6.0   6.0  3.0   1.0 ...   0.0   \n",
      "5     43.0  18.0  23.0  13.0   9.0  10.0  15.0  13.0  1.0  17.0 ...   0.0   \n",
      "6     31.0  20.0   7.0   4.0   6.0   9.0  13.0   7.0  0.0   2.0 ...   0.0   \n",
      "7     15.0  10.0   5.0   3.0   8.0   6.0   6.0   5.0  0.0   2.0 ...   0.0   \n",
      "8     13.0  11.0   5.0   1.0   6.0   4.0   5.0   3.0  0.0   5.0 ...   0.0   \n",
      "9     10.0   8.0   3.0   2.0   4.0   8.0   5.0   2.0  0.0   1.0 ...   0.0   \n",
      "10    15.0   6.0   3.0   4.0   8.0   4.0   8.0   2.0  1.0   2.0 ...   0.0   \n",
      "11    14.0   8.0   3.0   0.0   7.0   4.0   6.0   2.0  0.0   4.0 ...   0.0   \n",
      "12    17.0  10.0  17.0   1.0   5.0   8.0   9.0   4.0  1.0   3.0 ...   0.0   \n",
      "13    22.0  11.0   6.0   2.0   6.0   7.0  11.0   6.0  1.0   2.0 ...   0.0   \n",
      "14    23.0  17.0   4.0  10.0   7.0   6.0  13.0   3.0  0.0   2.0 ...   0.0   \n",
      "15    20.0  13.0   5.0   4.0   5.0   5.0   7.0   4.0  0.0   3.0 ...   0.0   \n",
      "16    10.0  16.0   3.0   3.0   7.0   2.0   7.0   6.0  0.0   2.0 ...   0.0   \n",
      "17    18.0  17.0  12.0   4.0   6.0   6.0   8.0  10.0  1.0   6.0 ...   0.0   \n",
      "18    44.0  28.0   8.0  14.0  16.0  12.0  12.0   3.0  1.0   6.0 ...   0.0   \n",
      "19    14.0  13.0   3.0   5.0   8.0   3.0   5.0   3.0  0.0   0.0 ...   0.0   \n",
      "20    17.0  17.0   3.0   9.0  11.0   8.0   7.0   1.0  0.0   2.0 ...   0.0   \n",
      "21    20.0  14.0   4.0   7.0   7.0   4.0   7.0   5.0  0.0   3.0 ...   0.0   \n",
      "22    18.0  14.0   6.0   6.0   5.0   8.0  13.0   3.0  2.0   3.0 ...   0.0   \n",
      "23     8.0   2.0   4.0   0.0   2.0   2.0   2.0   1.0  0.0   1.0 ...   0.0   \n",
      "24    22.0  17.0   4.0   5.0   6.0   4.0  14.0   2.0  0.0   1.0 ...   0.0   \n",
      "25    30.0  19.0   6.0   7.0   4.0   6.0  15.0  13.0  1.0   4.0 ...   0.0   \n",
      "26    18.0  11.0   4.0   3.0   4.0   4.0   4.0   2.0  1.0   1.0 ...   0.0   \n",
      "27    19.0  14.0   5.0   7.0   2.0   7.0   4.0   2.0  0.0   1.0 ...   0.0   \n",
      "28     7.0   6.0   0.0   0.0   2.0   0.0   2.0   0.0  0.0   0.0 ...   0.0   \n",
      "29    11.0   6.0   2.0   3.0   3.0   2.0   4.0   1.0  1.0   0.0 ...   0.0   \n",
      "30    23.0  16.0   5.0   3.0   5.0  11.0  17.0   0.0  2.0   2.0 ...   0.0   \n",
      "...    ...   ...   ...   ...   ...   ...   ...   ...  ...   ... ...   ...   \n",
      "2472  33.0  15.0  15.0   1.0   7.0  15.0  23.0   7.0  3.0   2.0 ...   0.0   \n",
      "2473   9.0   3.0   3.0   0.0   1.0   2.0   4.0   2.0  1.0   0.0 ...   0.0   \n",
      "2474  16.0   5.0   2.0   1.0   6.0   2.0  10.0   0.0  2.0   0.0 ...   0.0   \n",
      "2475  12.0   4.0   4.0   6.0   3.0   3.0   5.0   2.0  0.0   1.0 ...   0.0   \n",
      "2476   6.0   7.0   2.0   0.0   3.0   1.0   0.0   1.0  0.0   1.0 ...   0.0   \n",
      "2477  17.0  13.0   5.0   4.0   6.0   5.0   6.0   6.0  0.0   5.0 ...   0.0   \n",
      "2478  27.0   8.0   8.0   5.0   3.0   6.0   8.0   3.0  0.0   8.0 ...   0.0   \n",
      "2479  19.0   6.0   2.0   3.0   4.0   6.0   9.0   2.0  0.0   1.0 ...   0.0   \n",
      "2480   8.0   5.0   3.0   6.0   1.0   3.0   4.0   2.0  0.0   2.0 ...   0.0   \n",
      "2481  11.0   9.0   4.0   1.0   5.0   2.0   6.0   1.0  1.0   3.0 ...   0.0   \n",
      "2482  11.0   7.0   6.0   0.0   3.0   7.0   8.0   1.0  1.0   2.0 ...   0.0   \n",
      "2483  32.0  23.0   9.0   4.0  17.0   9.0  15.0   9.0  2.0  10.0 ...   0.0   \n",
      "2484  22.0  15.0   7.0   7.0   6.0   5.0  12.0   3.0  0.0   5.0 ...   0.0   \n",
      "2485  12.0  10.0   3.0   6.0   4.0   5.0   6.0   2.0  0.0   5.0 ...   0.0   \n",
      "2486  15.0  16.0   1.0   7.0   8.0   4.0   5.0   3.0  1.0   0.0 ...   0.0   \n",
      "2487  18.0  10.0   4.0   3.0   6.0   3.0   6.0   1.0  1.0   1.0 ...   0.0   \n",
      "2488  18.0   9.0   2.0   7.0   3.0   6.0   3.0   0.0  1.0   1.0 ...   0.0   \n",
      "2489  13.0  10.0   4.0   3.0   5.0   5.0   6.0   3.0  0.0   2.0 ...   0.0   \n",
      "2490   5.0   6.0   3.0   0.0   3.0   4.0   5.0   1.0  0.0   2.0 ...   0.0   \n",
      "2491  29.0  21.0   5.0   6.0   7.0   8.0  14.0   3.0  1.0   5.0 ...   0.0   \n",
      "2492  19.0   9.0   5.0   6.0   6.0   4.0   9.0   4.0  0.0   2.0 ...   0.0   \n",
      "2493  17.0  12.0   5.0   1.0   8.0   5.0  10.0   4.0  0.0   3.0 ...   0.0   \n",
      "2494  27.0  19.0  11.0  11.0   7.0   7.0  10.0   4.0  0.0   4.0 ...   0.0   \n",
      "2495   6.0   6.0   3.0   4.0   3.0   1.0   2.0   1.0  0.0   1.0 ...   0.0   \n",
      "2496  11.0   4.0   4.0   9.0   2.0   3.0   3.0   1.0  0.0   3.0 ...   0.0   \n",
      "2497   7.0   1.0   2.0   0.0   1.0   2.0   4.0   1.0  0.0   0.0 ...   0.0   \n",
      "2498  18.0  13.0   4.0   8.0   3.0   5.0  12.0   3.0  0.0   2.0 ...   0.0   \n",
      "2499  16.0   6.0   8.0   0.0   5.0   6.0   6.0   2.0  0.0   4.0 ...   0.0   \n",
      "2500   9.0   5.0   3.0   1.0   4.0   3.0   5.0   1.0  0.0   0.0 ...   0.0   \n",
      "2501  13.0   5.0   2.0   3.0   3.0   5.0   7.0   3.0  0.0   2.0 ...   0.0   \n",
      "\n",
      "       31   32   33   34   35   36   37   38   39  \n",
      "1     0.0  0.0  0.0  0.0  0.0  0.0  0.0  0.0  0.0  \n",
      "2     0.0  0.0  0.0  0.0  0.0  0.0  0.0  0.0  0.0  \n",
      "3     0.0  0.0  0.0  0.0  0.0  0.0  0.0  0.0  0.0  \n",
      "4     0.0  0.0  0.0  0.0  0.0  0.0  0.0  0.0  0.0  \n",
      "5     0.0  0.0  0.0  0.0  0.0  0.0  0.0  0.0  0.0  \n",
      "6     0.0  0.0  0.0  0.0  0.0  0.0  0.0  0.0  0.0  \n",
      "7     0.0  0.0  0.0  0.0  0.0  0.0  0.0  0.0  0.0  \n",
      "8     0.0  0.0  0.0  0.0  0.0  0.0  0.0  0.0  0.0  \n",
      "9     0.0  0.0  0.0  0.0  0.0  0.0  0.0  0.0  0.0  \n",
      "10    0.0  0.0  0.0  0.0  0.0  0.0  0.0  0.0  0.0  \n",
      "11    0.0  0.0  0.0  0.0  0.0  0.0  0.0  0.0  0.0  \n",
      "12    0.0  0.0  0.0  0.0  0.0  0.0  0.0  0.0  0.0  \n",
      "13    0.0  0.0  0.0  0.0  0.0  0.0  0.0  0.0  0.0  \n",
      "14    0.0  0.0  0.0  1.0  0.0  0.0  0.0  0.0  0.0  \n",
      "15    0.0  0.0  0.0  0.0  0.0  0.0  0.0  0.0  0.0  \n",
      "16    0.0  0.0  0.0  0.0  0.0  0.0  0.0  0.0  0.0  \n",
      "17    0.0  0.0  0.0  0.0  0.0  0.0  0.0  0.0  0.0  \n",
      "18    0.0  0.0  0.0  1.0  0.0  0.0  0.0  0.0  0.0  \n",
      "19    0.0  0.0  0.0  0.0  0.0  0.0  0.0  0.0  0.0  \n",
      "20    0.0  0.0  0.0  0.0  0.0  0.0  0.0  0.0  0.0  \n",
      "21    0.0  0.0  0.0  0.0  0.0  0.0  0.0  0.0  0.0  \n",
      "22    0.0  0.0  0.0  0.0  0.0  0.0  0.0  0.0  0.0  \n",
      "23    0.0  0.0  0.0  0.0  0.0  0.0  0.0  0.0  0.0  \n",
      "24    0.0  0.0  0.0  0.0  0.0  0.0  0.0  0.0  0.0  \n",
      "25    0.0  0.0  0.0  0.0  0.0  0.0  0.0  0.0  0.0  \n",
      "26    0.0  0.0  0.0  0.0  0.0  0.0  0.0  0.0  0.0  \n",
      "27    0.0  0.0  0.0  0.0  0.0  0.0  0.0  0.0  0.0  \n",
      "28    0.0  0.0  0.0  0.0  0.0  0.0  0.0  0.0  0.0  \n",
      "29    0.0  0.0  0.0  0.0  0.0  0.0  0.0  0.0  0.0  \n",
      "30    0.0  0.0  0.0  0.0  0.0  0.0  0.0  0.0  0.0  \n",
      "...   ...  ...  ...  ...  ...  ...  ...  ...  ...  \n",
      "2472  0.0  0.0  0.0  0.0  0.0  0.0  0.0  0.0  0.0  \n",
      "2473  0.0  0.0  0.0  0.0  0.0  0.0  0.0  0.0  0.0  \n",
      "2474  0.0  0.0  0.0  0.0  0.0  0.0  0.0  0.0  0.0  \n",
      "2475  0.0  0.0  0.0  0.0  0.0  0.0  0.0  0.0  0.0  \n",
      "2476  0.0  0.0  0.0  0.0  0.0  0.0  0.0  0.0  0.0  \n",
      "2477  0.0  0.0  0.0  0.0  0.0  0.0  0.0  0.0  0.0  \n",
      "2478  0.0  0.0  0.0  0.0  0.0  0.0  0.0  0.0  0.0  \n",
      "2479  0.0  0.0  0.0  0.0  0.0  0.0  0.0  0.0  0.0  \n",
      "2480  0.0  0.0  0.0  0.0  0.0  0.0  0.0  0.0  0.0  \n",
      "2481  0.0  0.0  0.0  0.0  0.0  0.0  0.0  0.0  0.0  \n",
      "2482  0.0  0.0  0.0  0.0  0.0  0.0  0.0  0.0  0.0  \n",
      "2483  0.0  0.0  0.0  0.0  0.0  0.0  0.0  0.0  0.0  \n",
      "2484  0.0  0.0  0.0  0.0  0.0  0.0  0.0  0.0  0.0  \n",
      "2485  0.0  0.0  0.0  0.0  0.0  0.0  0.0  0.0  0.0  \n",
      "2486  0.0  0.0  0.0  0.0  0.0  0.0  0.0  0.0  0.0  \n",
      "2487  0.0  0.0  0.0  0.0  0.0  0.0  0.0  0.0  0.0  \n",
      "2488  0.0  0.0  0.0  0.0  0.0  0.0  0.0  0.0  0.0  \n",
      "2489  0.0  0.0  0.0  0.0  0.0  0.0  0.0  0.0  0.0  \n",
      "2490  0.0  0.0  0.0  0.0  0.0  0.0  0.0  0.0  0.0  \n",
      "2491  0.0  0.0  0.0  0.0  0.0  0.0  0.0  0.0  0.0  \n",
      "2492  0.0  0.0  0.0  0.0  0.0  0.0  0.0  0.0  0.0  \n",
      "2493  0.0  0.0  0.0  0.0  0.0  0.0  0.0  0.0  0.0  \n",
      "2494  0.0  0.0  0.0  0.0  0.0  0.0  0.0  0.0  0.0  \n",
      "2495  0.0  0.0  0.0  0.0  0.0  0.0  0.0  0.0  0.0  \n",
      "2496  0.0  0.0  0.0  0.0  0.0  0.0  0.0  0.0  0.0  \n",
      "2497  0.0  0.0  0.0  0.0  0.0  0.0  0.0  0.0  0.0  \n",
      "2498  0.0  0.0  0.0  0.0  0.0  0.0  0.0  0.0  0.0  \n",
      "2499  0.0  0.0  0.0  0.0  0.0  0.0  0.0  0.0  0.0  \n",
      "2500  0.0  0.0  0.0  0.0  0.0  0.0  0.0  0.0  0.0  \n",
      "2501  0.0  0.0  0.0  0.0  0.0  0.0  0.0  0.0  0.0  \n",
      "\n",
      "[2501 rows x 40 columns]\n",
      "     0     1     2     3    4     5     6     7    8     9  ...    30   31  \\\n",
      "1  16.0   8.0   8.0   1.0  1.0   5.0   7.0   1.0  0.0   1.0 ...   0.0  0.0   \n",
      "2  11.0   7.0   6.0   2.0  3.0   3.0   5.0   2.0  0.0   1.0 ...   0.0  0.0   \n",
      "3  13.0   5.0   2.0   1.0  0.0   1.0   1.0   1.0  1.0   1.0 ...   0.0  0.0   \n",
      "4  23.0  10.0   4.0   2.0  6.0   7.0   6.0   6.0  3.0   1.0 ...   0.0  0.0   \n",
      "5  43.0  18.0  23.0  13.0  9.0  10.0  15.0  13.0  1.0  17.0 ...   0.0  0.0   \n",
      "\n",
      "    32   33   34   35   36   37   38   39  \n",
      "1  0.0  0.0  0.0  0.0  0.0  0.0  0.0  0.0  \n",
      "2  0.0  0.0  0.0  0.0  0.0  0.0  0.0  0.0  \n",
      "3  0.0  0.0  0.0  0.0  0.0  0.0  0.0  0.0  \n",
      "4  0.0  0.0  0.0  0.0  0.0  0.0  0.0  0.0  \n",
      "5  0.0  0.0  0.0  0.0  0.0  0.0  0.0  0.0  \n",
      "\n",
      "[5 rows x 40 columns]\n"
     ]
    }
   ],
   "source": [
    "cate = list(np.zeros(40))\n",
    "i = 1\n",
    "batch_size = 10000 #每10000次存储一次数据\n",
    "for numAppList in tqdm(user_numAppList.values()):\n",
    "#     print(i)\n",
    "    i += 1\n",
    "    categorylist = data.index\n",
    "    category_num = initDict(categorylist)\n",
    "    if len(numAppList)==1:\n",
    "        cate = np.vstack((cate,list(category_num.values())))\n",
    "    else:\n",
    "        appList = numAppList[1:-1]\n",
    "        for appId in appList:\n",
    "            if appId in app_category:\n",
    "                cateList = app_category[appId]\n",
    "                for category in cateList:\n",
    "                    category_num[category] += 1\n",
    "        cate = np.vstack((cate,list(category_num.values())))\n",
    "    if i%batch_size==0:\n",
    "        if i==batch_size:\n",
    "            cate = pd.DataFrame(cate, columns=['实用工具', '便捷生活', '教育', '金融理财', '购物比价', '社交通讯', '影音娱乐', '新闻阅读', '休闲益智',\n",
    "                                                   '商务', '运动健康', '出行导航', '经营策略', '动作射击', '儿童', '角色扮演', '拍摄美化', '棋牌桌游',\n",
    "                                                   '旅游住宿', '汽车', '主题个性', '美食', '体育竞速', '网络游戏', '休闲游戏', '休闲娱乐', '动作冒险',\n",
    "                                                   '学习办公', '益智棋牌', '表盘个性', '电子书籍', '模拟游戏', '策略游戏', '棋牌天地', '体育射击',\n",
    "                                                   '图书阅读','主题铃声', '角色游戏', '合作壁纸*', '医疗健康'])\n",
    "        else:\n",
    "            cate = pd.DataFrame(cate)\n",
    "        cate.drop(0,inplace=True)\n",
    "        if i==batch_size:\n",
    "            cate.to_csv(r'../processed/category_num.csv', index=False, header=True, encoding='utf_8_sig',mode='a')\n",
    "        else:\n",
    "            cate.to_csv(r'../processed/category_num.csv', index=False, header=False, encoding='utf_8_sig', mode='a')\n",
    "        cate = list(np.zeros(40))\n",
    "cate = pd.DataFrame(cate)\n",
    "cate.drop(0,inplace=True)\n",
    "# print(cate);print(cate.head())\n",
    "cate.to_csv(r'../processed/category_num.csv', index=False, header=False, encoding='utf_8_sig',mode='a')"
   ]
  },
  {
   "cell_type": "code",
   "execution_count": 9,
   "metadata": {},
   "outputs": [
    {
     "data": {
      "text/plain": [
       "0"
      ]
     },
     "execution_count": 9,
     "metadata": {},
     "output_type": "execute_result"
    }
   ],
   "source": [
    "del user_numAppList\n",
    "gc.collect()"
   ]
  },
  {
   "cell_type": "markdown",
   "metadata": {},
   "source": [
    "# 特征生成部分"
   ]
  },
  {
   "cell_type": "code",
   "execution_count": 3,
   "metadata": {},
   "outputs": [],
   "source": [
    "import numpy as np\n",
    "import pandas as pd\n",
    "from sklearn import preprocessing"
   ]
  },
  {
   "cell_type": "code",
   "execution_count": 4,
   "metadata": {},
   "outputs": [
    {
     "name": "stdout",
     "output_type": "stream",
     "text": [
      "(983611, 31)\n"
     ]
    }
   ],
   "source": [
    "category_num = pd.read_csv(r'../processed/category_num.csv')\n",
    "print(category_num.shape)\n",
    "# print(category_num.head())"
   ]
  },
  {
   "cell_type": "code",
   "execution_count": 12,
   "metadata": {},
   "outputs": [
    {
     "data": {
      "text/plain": [
       "(40, 1)"
      ]
     },
     "execution_count": 12,
     "metadata": {},
     "output_type": "execute_result"
    }
   ],
   "source": [
    "col = pd.DataFrame(category_num.sum())\n",
    "col.shape"
   ]
  },
  {
   "cell_type": "code",
   "execution_count": 13,
   "metadata": {},
   "outputs": [
    {
     "name": "stdout",
     "output_type": "stream",
     "text": [
      "The history saving thread hit an unexpected error (OperationalError('database is locked',)).History will not be written to the database.\n"
     ]
    },
    {
     "data": {
      "text/plain": [
       "(2512500, 30)"
      ]
     },
     "execution_count": 13,
     "metadata": {},
     "output_type": "execute_result"
    }
   ],
   "source": [
    "category_num = pd.DataFrame(category_num.values[:,col[0]>1000])\n",
    "category_num.shape"
   ]
  },
  {
   "cell_type": "code",
   "execution_count": 14,
   "metadata": {
    "collapsed": true
   },
   "outputs": [
    {
     "name": "stdout",
     "output_type": "stream",
     "text": [
      "(2512500, 2)\n",
      "         0                                                  1\n",
      "0  1000008  a00105157#a00109386#a00134746#a0013952#a001451...\n",
      "1  1000010  a00102782#a00107077#a00109386#a00134746#a00136...\n",
      "2  1000011  a00158535#a00163116#a00170432#a00187480#a00224...\n",
      "3  1000013  a00109386#a0011601#a0012768#a00136287#a0014516...\n",
      "4  1000014  a00109386#a0011894#a0013059#a00134840#a0013578...\n"
     ]
    }
   ],
   "source": [
    "user_app_actived = pd.read_csv(r'../data/user_app_actived.csv',header=None)\n",
    "print(user_app_actived.shape)\n",
    "print(user_app_actived.head())"
   ]
  },
  {
   "cell_type": "code",
   "execution_count": 15,
   "metadata": {},
   "outputs": [],
   "source": [
    "category_num = preprocessing.StandardScaler().fit_transform(category_num.values)\n",
    "uId = user_app_actived[0].values"
   ]
  },
  {
   "cell_type": "code",
   "execution_count": 16,
   "metadata": {},
   "outputs": [
    {
     "data": {
      "text/plain": [
       "(2512500, 30)"
      ]
     },
     "execution_count": 16,
     "metadata": {},
     "output_type": "execute_result"
    }
   ],
   "source": [
    "uId = uId.reshape(len(uId),1)\n",
    "category_num.shape"
   ]
  },
  {
   "cell_type": "code",
   "execution_count": 17,
   "metadata": {},
   "outputs": [],
   "source": [
    "category_num = np.column_stack((uId,category_num))"
   ]
  },
  {
   "cell_type": "code",
   "execution_count": 18,
   "metadata": {
    "collapsed": true
   },
   "outputs": [
    {
     "name": "stdout",
     "output_type": "stream",
     "text": [
      "(2512500, 31)\n",
      "          0         1         2         3         4         5         6   \\\n",
      "0  1000008.0 -0.334211  0.270043  0.282272  0.273748  1.060285  0.853186   \n",
      "1  1000010.0  0.016666  0.935803 -0.071270 -0.173857  0.743862 -0.198733   \n",
      "2  1000011.0 -1.269882 -1.061476 -1.131894 -0.845263 -0.521828 -0.549373   \n",
      "3  1000013.0 -0.334211  0.270043 -0.424811  0.273748  0.743862  0.151907   \n",
      "4  1000014.0  0.952337  0.769363  2.049980  0.049946  0.427440  0.151907   \n",
      "\n",
      "         7         8         9     ...           21        22        23  \\\n",
      "0 -0.542339 -0.747547 -0.508995    ...    -0.382519  0.149207 -0.194018   \n",
      "1 -0.298918  0.535790 -0.508995    ...    -0.382519 -0.587036 -0.194018   \n",
      "2 -0.542339 -0.319768  0.448749    ...    -0.382519 -0.587036 -0.194018   \n",
      "3 -0.542339  0.108011 -0.508995    ...    -0.382519 -0.587036 -0.194018   \n",
      "4  0.431343  0.963569 -0.508995    ...    -0.382519 -0.587036 -0.194018   \n",
      "\n",
      "         24        25        26        27       28        29        30  \n",
      "0 -0.109912 -0.020083 -0.087772 -0.004679 -0.01872 -0.020212 -0.110141  \n",
      "1 -0.109912 -0.020083 -0.087772 -0.004679 -0.01872 -0.020212 -0.110141  \n",
      "2 -0.109912 -0.020083 -0.087772 -0.004679 -0.01872 -0.020212 -0.110141  \n",
      "3 -0.109912 -0.020083 -0.087772 -0.004679 -0.01872 -0.020212 -0.110141  \n",
      "4 -0.109912 -0.020083 -0.087772 -0.004679 -0.01872 -0.020212 -0.110141  \n",
      "\n",
      "[5 rows x 31 columns]\n"
     ]
    }
   ],
   "source": [
    "category_num = pd.DataFrame(category_num)\n",
    "print(category_num.shape)\n",
    "print(category_num.head())"
   ]
  },
  {
   "cell_type": "code",
   "execution_count": 19,
   "metadata": {},
   "outputs": [
    {
     "name": "stdout",
     "output_type": "stream",
     "text": [
      "(2010000, 1)\n",
      "(502500, 1)\n"
     ]
    }
   ],
   "source": [
    "age_train = pd.read_csv(r'../data/age_train.csv',header=None,usecols=[0])\n",
    "print(age_train.shape)\n",
    "age_test = pd.read_csv(r'../data/age_test.csv',header=None)\n",
    "print(age_test.shape)"
   ]
  },
  {
   "cell_type": "code",
   "execution_count": 20,
   "metadata": {
    "collapsed": true
   },
   "outputs": [
    {
     "name": "stdout",
     "output_type": "stream",
     "text": [
      "        0         1         2         3         4         5         6   \\\n",
      "0  1000001 -0.100293 -0.562156 -1.131894 -0.621461 -1.471096 -0.900013   \n",
      "1  1000011 -1.269882 -1.061476 -1.131894 -0.845263 -0.521828 -0.549373   \n",
      "2  1000015 -0.802046 -0.562156  0.282272 -0.621461 -0.521828 -0.900013   \n",
      "3  1000019 -1.737717 -1.560795 -1.485436 -0.845263 -1.471096 -1.601293   \n",
      "4  1000023 -1.035964 -1.061476 -1.131894 -0.845263 -1.154674 -0.549373   \n",
      "5  1000025  0.718419  0.769363  0.282272  1.168957 -0.521828  1.203826   \n",
      "6  1000029  2.004967  1.768003  0.635814  0.273748  1.376708  0.853186   \n",
      "7  1000035 -0.451170 -0.229276 -0.071270 -0.173857  0.111017 -0.198733   \n",
      "8  1000037  1.420173  2.600202 -0.424811  1.168957  0.743862 -0.198733   \n",
      "9  1000038 -0.451170 -0.229276 -0.778353 -0.845263  0.743862 -0.198733   \n",
      "\n",
      "         7         8         9     ...           21        22        23  \\\n",
      "0 -1.029180 -1.175326 -0.508995    ...    -0.382519 -0.587036 -0.194018   \n",
      "1 -0.542339 -0.319768  0.448749    ...    -0.382519 -0.587036 -0.194018   \n",
      "2 -1.272600 -0.747547 -0.508995    ...    -0.382519 -0.587036 -0.194018   \n",
      "3 -1.759441 -1.175326 -0.508995    ...    -0.382519 -0.587036 -0.194018   \n",
      "4 -1.029180 -1.175326 -0.508995    ...    -0.382519 -0.587036 -0.194018   \n",
      "5  0.674764 -0.319768  0.448749    ...    -0.382519  0.885449 -0.194018   \n",
      "6  0.674764  0.535790 -0.508995    ...     1.812937  2.357935 -0.194018   \n",
      "7 -0.542339  0.535790 -0.508995    ...    -0.382519 -0.587036 -0.194018   \n",
      "8  0.674764  0.535790 -0.508995    ...    -0.382519  1.621692 -0.194018   \n",
      "9 -0.055498 -1.175326 -0.508995    ...    -0.382519  0.885449 -0.194018   \n",
      "\n",
      "         24        25        26        27       28        29        30  \n",
      "0 -0.109912 -0.020083 -0.087772 -0.004679 -0.01872 -0.020212 -0.110141  \n",
      "1 -0.109912 -0.020083 -0.087772 -0.004679 -0.01872 -0.020212 -0.110141  \n",
      "2 -0.109912 -0.020083 -0.087772 -0.004679 -0.01872 -0.020212 -0.110141  \n",
      "3 -0.109912 -0.020083 -0.087772 -0.004679 -0.01872 -0.020212 -0.110141  \n",
      "4 -0.109912 -0.020083 -0.087772 -0.004679 -0.01872 -0.020212 -0.110141  \n",
      "5 -0.109912 -0.020083 -0.087772 -0.004679 -0.01872 -0.020212 -0.110141  \n",
      "6 -0.109912 -0.020083 -0.087772 -0.004679 -0.01872 -0.020212 -0.110141  \n",
      "7 -0.109912 -0.020083 -0.087772 -0.004679 -0.01872 -0.020212 -0.110141  \n",
      "8 -0.109912 -0.020083 -0.087772 -0.004679 -0.01872 -0.020212 -0.110141  \n",
      "9 -0.109912 -0.020083 -0.087772 -0.004679 -0.01872 -0.020212 -0.110141  \n",
      "\n",
      "[10 rows x 31 columns]\n"
     ]
    }
   ],
   "source": [
    "age_train = pd.merge(age_train,category_num,how='inner',on=0)\n",
    "# print(age_train.head(10))"
   ]
  },
  {
   "cell_type": "code",
   "execution_count": 21,
   "metadata": {},
   "outputs": [],
   "source": [
    "age_test = pd.merge(age_test,category_num,how='inner',on=0)\n",
    "# print(age_test.head(10))"
   ]
  },
  {
   "cell_type": "code",
   "execution_count": 22,
   "metadata": {},
   "outputs": [],
   "source": [
    "age_train.drop(labels=[0],axis=1,inplace=True)\n",
    "age_test.drop(labels=[0],axis=1,inplace=True)"
   ]
  },
  {
   "cell_type": "code",
   "execution_count": 23,
   "metadata": {},
   "outputs": [],
   "source": [
    "from scipy import sparse"
   ]
  },
  {
   "cell_type": "code",
   "execution_count": 24,
   "metadata": {},
   "outputs": [],
   "source": [
    "age_train = sparse.csr_matrix(age_train,dtype=np.float32)\n",
    "age_test = sparse.csr_matrix(age_test,dtype=np.float32)"
   ]
  },
  {
   "cell_type": "code",
   "execution_count": 25,
   "metadata": {},
   "outputs": [
    {
     "name": "stdout",
     "output_type": "stream",
     "text": [
      "(2010000, 30)\n",
      "(502500, 30)\n"
     ]
    }
   ],
   "source": [
    "print(age_train.shape)\n",
    "print(age_test.shape)"
   ]
  },
  {
   "cell_type": "code",
   "execution_count": 26,
   "metadata": {},
   "outputs": [],
   "source": [
    "sparse.save_npz(r'../trainTestData/trainData30.npz',age_train)\n",
    "sparse.save_npz(r'../trainTestData/testData30.npz',age_test)"
   ]
  },
  {
   "cell_type": "code",
   "execution_count": null,
   "metadata": {},
   "outputs": [],
   "source": [
    "category_num.to_csv(r'../processed/category_num.csv',header=None,index=False)"
   ]
  },
  {
   "cell_type": "code",
   "execution_count": null,
   "metadata": {},
   "outputs": [],
   "source": []
  }
 ],
 "metadata": {
  "kernelspec": {
   "display_name": "Python 3",
   "language": "python",
   "name": "python3"
  },
  "language_info": {
   "codemirror_mode": {
    "name": "ipython",
    "version": 3
   },
   "file_extension": ".py",
   "mimetype": "text/x-python",
   "name": "python",
   "nbconvert_exporter": "python",
   "pygments_lexer": "ipython3",
   "version": "3.6.5"
  }
 },
 "nbformat": 4,
 "nbformat_minor": 2
}
