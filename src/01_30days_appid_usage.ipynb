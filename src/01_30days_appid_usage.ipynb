{
 "cells": [
  {
   "cell_type": "code",
   "execution_count": 1,
   "metadata": {
    "ExecuteTime": {
     "end_time": "2019-05-30T01:17:15.198374Z",
     "start_time": "2019-05-30T01:17:15.193251Z"
    }
   },
   "outputs": [
    {
     "name": "stdout",
     "output_type": "stream",
     "text": [
      "2019-08-21 14:49:33\n"
     ]
    }
   ],
   "source": [
    "from __future__ import division\n",
    "\n",
    "import numpy as np\n",
    "import xgboost as xgb\n",
    "import pickle\n",
    "import pandas as pd\n",
    "\n",
    "import matplotlib.pyplot as plt\n",
    "import matplotlib\n",
    "\n",
    "from tqdm import tqdm\n",
    "import printTime as pt\n",
    "import gc\n",
    "\n",
    "import warnings\n",
    "import random\n",
    "warnings.filterwarnings('ignore')\n",
    "pt.printTime()"
   ]
  },
  {
   "cell_type": "code",
   "execution_count": 2,
   "metadata": {
    "ExecuteTime": {
     "end_time": "2019-05-30T01:17:25.632169Z",
     "start_time": "2019-05-30T01:17:15.859805Z"
    }
   },
   "outputs": [],
   "source": [
    "age_test = pd.read_csv(\"../data/age_test.csv\", header = None)\n",
    "age_train = pd.read_csv(\"../data/age_train.csv\", header = None)\n",
    "user_app_usage = pd.read_csv(\"../data/user_app_usage.csv\", nrows=500000, header = None)"
   ]
  },
  {
   "cell_type": "code",
   "execution_count": 3,
   "metadata": {},
   "outputs": [
    {
     "name": "stderr",
     "output_type": "stream",
     "text": [
      "100%|██████████| 500000/500000 [00:00<00:00, 2306920.26it/s]"
     ]
    },
    {
     "name": "stdout",
     "output_type": "stream",
     "text": [
      "2019-08-21 14:49:34\n"
     ]
    },
    {
     "name": "stderr",
     "output_type": "stream",
     "text": [
      "\n"
     ]
    },
    {
     "data": {
      "text/plain": [
       "30"
      ]
     },
     "execution_count": 3,
     "metadata": {},
     "output_type": "execute_result"
    }
   ],
   "source": [
    "# date_dict = {'2019-02-28': 0}\n",
    "# for date in user_app_usage.loc[:, 4]:\n",
    "#     if date not in date_dict:\n",
    "#         date_dict[date] = int(date.split('-')[2])\n",
    "# len(date_dict)\n",
    "\n",
    "date_dict = {}\n",
    "i = 0\n",
    "for one_day in tqdm(user_app_usage.loc[:, 4]):\n",
    "    if one_day not in date_dict.keys():\n",
    "        date_dict[one_day] = i\n",
    "        i += 1\n",
    "day_num = i\n",
    "pt.printTime()\n",
    "len(date_dict)"
   ]
  },
  {
   "cell_type": "code",
   "execution_count": 4,
   "metadata": {},
   "outputs": [],
   "source": [
    "user_app_usage = pd.read_csv(\"../data/user_app_usage.csv\", header = None)\n",
    "user_app_usage = user_app_usage.values"
   ]
  },
  {
   "cell_type": "markdown",
   "metadata": {},
   "source": [
    "# top 100 app_keys 30 days usage time"
   ]
  },
  {
   "cell_type": "code",
   "execution_count": 5,
   "metadata": {},
   "outputs": [],
   "source": [
    "app_keys = np.loadtxt('../processed/high_attractive_app_keys.txt', dtype=str, delimiter=',')\n",
    "app_keys = app_keys[:100]\n",
    "app_keys.shape\n",
    "app_keys = app_keys.tolist()"
   ]
  },
  {
   "cell_type": "code",
   "execution_count": 6,
   "metadata": {},
   "outputs": [
    {
     "data": {
      "text/plain": [
       "(2512500, 1)"
      ]
     },
     "execution_count": 6,
     "metadata": {},
     "output_type": "execute_result"
    }
   ],
   "source": [
    "all_users = pd.merge(age_train.drop([1], axis = 1), age_test, on=0, how='outer')\n",
    "all_users.shape"
   ]
  },
  {
   "cell_type": "code",
   "execution_count": 7,
   "metadata": {},
   "outputs": [
    {
     "data": {
      "text/plain": [
       "3000"
      ]
     },
     "execution_count": 7,
     "metadata": {},
     "output_type": "execute_result"
    }
   ],
   "source": [
    "add_columns = []\n",
    "for i in range(len(app_keys)):\n",
    "    for j in range(30):\n",
    "        add_columns.append(i*30+j)\n",
    "len(add_columns)"
   ]
  },
  {
   "cell_type": "code",
   "execution_count": 8,
   "metadata": {},
   "outputs": [],
   "source": [
    "add_columns = np.zeros((all_users.shape[0], len(add_columns)))"
   ]
  },
  {
   "cell_type": "code",
   "execution_count": 9,
   "metadata": {},
   "outputs": [],
   "source": [
    "uid_index_dict = {}\n",
    "index = 0\n",
    "for uid in all_users[0]:\n",
    "    uid_index_dict[int(uid)] = index \n",
    "    index += 1"
   ]
  },
  {
   "cell_type": "code",
   "execution_count": 10,
   "metadata": {},
   "outputs": [],
   "source": [
    "all_users = all_users.values"
   ]
  },
  {
   "cell_type": "code",
   "execution_count": 11,
   "metadata": {},
   "outputs": [
    {
     "name": "stderr",
     "output_type": "stream",
     "text": [
      "100%|██████████| 651007719/651007719 [37:32<00:00, 289018.33it/s]  \n"
     ]
    }
   ],
   "source": [
    "for i in tqdm(range(user_app_usage.shape[0])):\n",
    "    if user_app_usage[i, 1] in app_keys:\n",
    "        if user_app_usage[i, 2] > 18426:\n",
    "            add_columns[uid_index_dict[user_app_usage[i, 0]], app_keys.index(user_app_usage[i, 1])*30+date_dict[user_app_usage[i, 4]]] = 18426\n",
    "        else:\n",
    "            add_columns[uid_index_dict[user_app_usage[i, 0]], app_keys.index(user_app_usage[i, 1])*30+date_dict[user_app_usage[i, 4]]] = user_app_usage[i, 2]"
   ]
  },
  {
   "cell_type": "code",
   "execution_count": 12,
   "metadata": {},
   "outputs": [
    {
     "name": "stdout",
     "output_type": "stream",
     "text": [
      "2019-08-21 15:51:41\n"
     ]
    }
   ],
   "source": [
    "del user_app_usage\n",
    "gc.collect()\n",
    "pt.printTime()"
   ]
  },
  {
   "cell_type": "markdown",
   "metadata": {},
   "source": [
    "# 转换为csr稀疏矩阵,并保存"
   ]
  },
  {
   "cell_type": "code",
   "execution_count": 13,
   "metadata": {},
   "outputs": [],
   "source": [
    "from sklearn import preprocessing\n",
    "from scipy.sparse import csr_matrix, hstack\n",
    "from scipy import sparse"
   ]
  },
  {
   "cell_type": "code",
   "execution_count": 14,
   "metadata": {},
   "outputs": [],
   "source": [
    "add_columns = csr_matrix(add_columns)"
   ]
  },
  {
   "cell_type": "code",
   "execution_count": 15,
   "metadata": {},
   "outputs": [
    {
     "name": "stdout",
     "output_type": "stream",
     "text": [
      "2019-08-21 15:57:04\n"
     ]
    }
   ],
   "source": [
    "scale = preprocessing.MaxAbsScaler()\n",
    "add_columns = scale.fit_transform(add_columns)\n",
    "pt.printTime()"
   ]
  },
  {
   "cell_type": "code",
   "execution_count": 16,
   "metadata": {},
   "outputs": [
    {
     "name": "stdout",
     "output_type": "stream",
     "text": [
      "2019-08-21 15:57:11\n"
     ]
    }
   ],
   "source": [
    "trainData = add_columns[:2010000]\n",
    "testData = add_columns[2010000:]\n",
    "pt.printTime()"
   ]
  },
  {
   "cell_type": "code",
   "execution_count": 17,
   "metadata": {},
   "outputs": [],
   "source": [
    "sparse.save_npz('../trainTestData/trainData3000.npz', trainData)  #保存\n",
    "sparse.save_npz('../trainTestData/testData3000.npz', testData)  #保存"
   ]
  },
  {
   "cell_type": "code",
   "execution_count": 18,
   "metadata": {},
   "outputs": [
    {
     "name": "stdout",
     "output_type": "stream",
     "text": [
      "2019-08-21 16:00:38\n"
     ]
    }
   ],
   "source": [
    "pt.printTime()"
   ]
  }
 ],
 "metadata": {
  "kernelspec": {
   "display_name": "diagnosis",
   "language": "python",
   "name": "diagnosis"
  },
  "language_info": {
   "codemirror_mode": {
    "name": "ipython",
    "version": 3
   },
   "file_extension": ".py",
   "mimetype": "text/x-python",
   "name": "python",
   "nbconvert_exporter": "python",
   "pygments_lexer": "ipython3",
   "version": "3.7.1"
  },
  "toc": {
   "base_numbering": 1,
   "nav_menu": {
    "height": "128px",
    "width": "186px"
   },
   "number_sections": true,
   "sideBar": true,
   "skip_h1_title": false,
   "title_cell": "Table of Contents",
   "title_sidebar": "Contents",
   "toc_cell": false,
   "toc_position": {},
   "toc_section_display": true,
   "toc_window_display": false
  },
  "varInspector": {
   "cols": {
    "lenName": 16,
    "lenType": 16,
    "lenVar": 40
   },
   "kernels_config": {
    "python": {
     "delete_cmd_postfix": "",
     "delete_cmd_prefix": "del ",
     "library": "var_list.py",
     "varRefreshCmd": "print(var_dic_list())"
    },
    "r": {
     "delete_cmd_postfix": ") ",
     "delete_cmd_prefix": "rm(",
     "library": "var_list.r",
     "varRefreshCmd": "cat(var_dic_list()) "
    }
   },
   "types_to_exclude": [
    "module",
    "function",
    "builtin_function_or_method",
    "instance",
    "_Feature"
   ],
   "window_display": false
  }
 },
 "nbformat": 4,
 "nbformat_minor": 2
}
