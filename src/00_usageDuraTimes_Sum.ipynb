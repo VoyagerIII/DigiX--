{
 "cells": [
  {
   "cell_type": "markdown",
   "metadata": {},
   "source": [
    "# 从usage中计算总时长和总打开次数（每天）"
   ]
  },
  {
   "cell_type": "markdown",
   "metadata": {},
   "source": [
    "## 数据准备部分"
   ]
  },
  {
   "cell_type": "code",
   "execution_count": 1,
   "metadata": {},
   "outputs": [],
   "source": [
    "import numpy as np\n",
    "import pandas as pd\n",
    "from tqdm import tqdm\n",
    "from sklearn.impute import SimpleImputer\n",
    "from sklearn import preprocessing\n",
    "from scipy import sparse\n",
    "import printTime as pt"
   ]
  },
  {
   "cell_type": "code",
   "execution_count": 2,
   "metadata": {},
   "outputs": [
    {
     "name": "stdout",
     "output_type": "stream",
     "text": [
      "2019-08-20 21:32:41\n"
     ]
    }
   ],
   "source": [
    "pt.printTime()"
   ]
  },
  {
   "cell_type": "code",
   "execution_count": 3,
   "metadata": {},
   "outputs": [
    {
     "data": {
      "text/plain": [
       "pandas.io.parsers.TextFileReader"
      ]
     },
     "execution_count": 3,
     "metadata": {},
     "output_type": "execute_result"
    }
   ],
   "source": [
    "usage_chunk = pd.read_csv(r'../data/user_app_usage.csv',header=None,chunksize=100000000)\n",
    "type(usage_chunk)"
   ]
  },
  {
   "cell_type": "code",
   "execution_count": 4,
   "metadata": {},
   "outputs": [
    {
     "name": "stdout",
     "output_type": "stream",
     "text": [
      "2019-08-20 21:32:41\n"
     ]
    }
   ],
   "source": [
    "pt.printTime()\n",
    "date = pd.read_csv(r'../data/user_app_usage.csv',header=None,usecols=[4],nrows=50000).values"
   ]
  },
  {
   "cell_type": "code",
   "execution_count": 5,
   "metadata": {},
   "outputs": [
    {
     "name": "stderr",
     "output_type": "stream",
     "text": [
      "100%|██████████| 50000/50000 [00:00<00:00, 1425693.25it/s]"
     ]
    },
    {
     "name": "stdout",
     "output_type": "stream",
     "text": [
      "2019-08-20 21:32:41\n"
     ]
    },
    {
     "name": "stderr",
     "output_type": "stream",
     "text": [
      "\n"
     ]
    }
   ],
   "source": [
    "date_dict = {}\n",
    "i = 0\n",
    "for one_day in tqdm(date):\n",
    "    if one_day[0] not in date_dict.keys():\n",
    "        date_dict[one_day[0]] = i\n",
    "        i += 1\n",
    "day_num = i\n",
    "pt.printTime()"
   ]
  },
  {
   "cell_type": "code",
   "execution_count": 6,
   "metadata": {},
   "outputs": [
    {
     "name": "stderr",
     "output_type": "stream",
     "text": [
      "100%|██████████| 100000000/100000000 [03:00<00:00, 552622.80it/s]\n",
      "100%|██████████| 100000000/100000000 [03:44<00:00, 445526.22it/s]\n",
      "100%|██████████| 100000000/100000000 [04:35<00:00, 363211.23it/s]\n",
      "100%|██████████| 100000000/100000000 [02:49<00:00, 590803.91it/s]\n",
      "100%|██████████| 100000000/100000000 [02:53<00:00, 575234.76it/s]\n",
      "100%|██████████| 100000000/100000000 [07:35<00:00, 219333.59it/s]\n",
      "100%|██████████| 51007719/51007719 [17:57<00:00, 47347.14it/s]   \n"
     ]
    }
   ],
   "source": [
    "preUserId = ''\n",
    "one_user = np.zeros(2*day_num)\n",
    "flag = True\n",
    "usageDuraTimes_Sum = []\n",
    "for usage in usage_chunk:\n",
    "    for user in tqdm(usage.values):\n",
    "        day = date_dict[user[4]]\n",
    "        currUserId = user[0]\n",
    "        if flag==True:\n",
    "            preUserId = currUserId\n",
    "            flag = False\n",
    "        if preUserId!=currUserId:\n",
    "            one_user = np.insert(one_user,0,preUserId)\n",
    "            usageDuraTimes_Sum.append(one_user)\n",
    "            one_user = np.zeros(2*day_num)\n",
    "            preUserId = currUserId\n",
    "        else:\n",
    "            one_user[day] += user[2]\n",
    "            one_user[day+day_num] += user[3]"
   ]
  },
  {
   "cell_type": "code",
   "execution_count": 7,
   "metadata": {},
   "outputs": [],
   "source": [
    "# usage.sort_values(by=['uId','use_date'],inplace=True)"
   ]
  },
  {
   "cell_type": "code",
   "execution_count": 8,
   "metadata": {},
   "outputs": [],
   "source": [
    "# preUserId = ''\n",
    "# one_user = np.zeros(60)\n",
    "# flag = True\n",
    "# usageDuraTimes_Sum = []\n",
    "# for usage in usage_chunk:\n",
    "#     for user in tqdm(usage.values):\n",
    "#         stri = user[4].split('-')\n",
    "#         if int(stri[2])==28 and int(stri[1])==2:\n",
    "#             day = 0\n",
    "#         else:\n",
    "#             day = int(stri[2])\n",
    "#         currUserId = user[0]\n",
    "#         if flag==True:\n",
    "#             preUserId = currUserId\n",
    "#             flag = False\n",
    "#         if preUserId!=currUserId:\n",
    "#             one_user = np.insert(one_user,0,preUserId)\n",
    "#             usageDuraTimes_Sum.append(one_user)\n",
    "#             one_user = np.zeros(60)\n",
    "#             preUserId = currUserId\n",
    "#         else:\n",
    "#             one_user[day] += user[2]\n",
    "#             one_user[day+30] += user[3]"
   ]
  },
  {
   "cell_type": "code",
   "execution_count": 9,
   "metadata": {},
   "outputs": [
    {
     "name": "stdout",
     "output_type": "stream",
     "text": [
      "2019-08-20 22:31:10\n"
     ]
    }
   ],
   "source": [
    "one_user = np.insert(one_user,0,preUserId)\n",
    "usageDuraTimes_Sum.append(one_user)\n",
    "pt.printTime()"
   ]
  },
  {
   "cell_type": "code",
   "execution_count": 10,
   "metadata": {},
   "outputs": [
    {
     "data": {
      "text/plain": [
       "(1992667, 61)"
      ]
     },
     "execution_count": 10,
     "metadata": {},
     "output_type": "execute_result"
    }
   ],
   "source": [
    "usageDuraTimes_Sum = pd.DataFrame(usageDuraTimes_Sum)\n",
    "usageDuraTimes_Sum.shape"
   ]
  },
  {
   "cell_type": "code",
   "execution_count": 11,
   "metadata": {},
   "outputs": [],
   "source": [
    "# usageDuraTimes_Sum.head()"
   ]
  },
  {
   "cell_type": "code",
   "execution_count": 12,
   "metadata": {},
   "outputs": [
    {
     "name": "stdout",
     "output_type": "stream",
     "text": [
      "2019-08-20 22:34:07\n",
      "2019-08-20 22:36:08\n"
     ]
    }
   ],
   "source": [
    "pt.printTime()\n",
    "usageDuraTimes_Sum.to_csv(r'../processed/usageDuraTimes_Sum.csv',header=None,index=False)\n",
    "pt.printTime()"
   ]
  },
  {
   "cell_type": "markdown",
   "metadata": {},
   "source": [
    "## 数据处理部分，生成trainData60.npz和testData60.npz文件"
   ]
  },
  {
   "cell_type": "code",
   "execution_count": 13,
   "metadata": {},
   "outputs": [],
   "source": [
    "# usageDuraTimes_Sum = pd.read_csv(r'../processed/usageDuraTimes_Sum.csv',header=None)\n",
    "# print(usageDuraTimes_Sum.shape)\n",
    "# print(usageDuraTimes_Sum.head())"
   ]
  },
  {
   "cell_type": "code",
   "execution_count": 14,
   "metadata": {},
   "outputs": [
    {
     "name": "stdout",
     "output_type": "stream",
     "text": [
      "2019-08-20 22:36:08\n"
     ]
    }
   ],
   "source": [
    "pt.printTime()\n",
    "usageDuraTimes_Sum = usageDuraTimes_Sum.values"
   ]
  },
  {
   "cell_type": "code",
   "execution_count": 15,
   "metadata": {},
   "outputs": [],
   "source": [
    "usageDuraTimes_Sum[:,1:] = preprocessing.StandardScaler().fit_transform(usageDuraTimes_Sum[:,1:])"
   ]
  },
  {
   "cell_type": "code",
   "execution_count": 16,
   "metadata": {},
   "outputs": [
    {
     "name": "stdout",
     "output_type": "stream",
     "text": [
      "(1992667, 61)\n",
      "          0         1         2         3         4         5         6   \\\n",
      "0  1000364.0 -0.736996 -0.643930 -0.572220 -0.525964 -0.972846 -0.493046   \n",
      "1  1000387.0  1.246786  0.678483 -0.040560  1.835045  0.989643  1.526530   \n",
      "2  1000872.0 -0.414773 -0.571459 -0.481216 -0.417523 -0.581154 -0.498701   \n",
      "3  1000951.0 -1.074658 -0.298232 -0.223638  0.064338 -0.941143 -0.630345   \n",
      "4  1001091.0  0.223019 -0.150401  0.380451  0.204801  0.764011  1.023954   \n",
      "\n",
      "         7         8         9   ...        51        52        53        54  \\\n",
      "0 -0.624513 -0.652973 -0.589532  ... -0.712512 -0.506526 -0.656138 -0.526741   \n",
      "1  0.429499  0.958169  1.324566  ...  1.102472  1.200109  0.090805  0.329822   \n",
      "2 -0.440690 -0.393840 -0.587664  ...  0.697955 -0.180075  0.137575 -0.173175   \n",
      "3 -0.233799 -0.097233 -0.776698  ... -0.668244 -0.512035 -0.438795 -0.596120   \n",
      "4  2.189435  0.167681  1.022279  ...  0.102628  1.441159 -0.045378  1.317138   \n",
      "\n",
      "         55        56        57        58        59        60  \n",
      "0 -0.560125 -0.483550 -0.587285 -0.523181 -0.472247 -0.412377  \n",
      "1  1.507746 -0.007801  1.126750  0.540276  2.118502  0.867285  \n",
      "2 -0.003390  0.498290 -0.051405  0.373552 -0.047398  0.080665  \n",
      "3 -0.325085 -0.591564 -0.570417 -0.592252 -0.641632 -0.575320  \n",
      "4  0.680361  0.478872  1.835201  1.771647  0.784252  0.882736  \n",
      "\n",
      "[5 rows x 61 columns]\n"
     ]
    }
   ],
   "source": [
    "usageDuraTimes_Sum = pd.DataFrame(usageDuraTimes_Sum)\n",
    "print(usageDuraTimes_Sum.shape)\n",
    "print(usageDuraTimes_Sum.head())"
   ]
  },
  {
   "cell_type": "code",
   "execution_count": 17,
   "metadata": {},
   "outputs": [],
   "source": [
    "age_train = pd.read_csv(r'../data/age_train.csv',header=None,usecols=[0])\n",
    "age_test = pd.read_csv(r'../data/age_test.csv',header=None)"
   ]
  },
  {
   "cell_type": "code",
   "execution_count": 18,
   "metadata": {},
   "outputs": [],
   "source": [
    "imp = SimpleImputer()"
   ]
  },
  {
   "cell_type": "code",
   "execution_count": 19,
   "metadata": {},
   "outputs": [],
   "source": [
    "train = pd.merge(age_train,usageDuraTimes_Sum,how='inner',on=0)\n",
    "train = pd.merge(age_train,train,how='outer',on=0)"
   ]
  },
  {
   "cell_type": "code",
   "execution_count": 20,
   "metadata": {},
   "outputs": [
    {
     "data": {
      "text/plain": [
       "(2010000, 60)"
      ]
     },
     "execution_count": 20,
     "metadata": {},
     "output_type": "execute_result"
    }
   ],
   "source": [
    "train = sparse.csr_matrix(imp.fit_transform(train.values[:,1:]))\n",
    "train.shape"
   ]
  },
  {
   "cell_type": "code",
   "execution_count": 21,
   "metadata": {},
   "outputs": [],
   "source": [
    "test = pd.merge(age_test,usageDuraTimes_Sum,how='inner',on=0)\n",
    "test = pd.merge(age_test,test,how='outer',on=0)"
   ]
  },
  {
   "cell_type": "code",
   "execution_count": 22,
   "metadata": {},
   "outputs": [
    {
     "data": {
      "text/plain": [
       "(502500, 60)"
      ]
     },
     "execution_count": 22,
     "metadata": {},
     "output_type": "execute_result"
    }
   ],
   "source": [
    "test = sparse.csr_matrix(imp.fit_transform(test.values[:,1:]))\n",
    "test.shape"
   ]
  },
  {
   "cell_type": "code",
   "execution_count": 23,
   "metadata": {},
   "outputs": [
    {
     "name": "stdout",
     "output_type": "stream",
     "text": [
      "2019-08-20 22:40:11\n"
     ]
    }
   ],
   "source": [
    "sparse.save_npz(r'../trainTestData/trainData60.npz',train)\n",
    "sparse.save_npz(r'../trainTestData/testData60.npz',test)\n",
    "pt.printTime()"
   ]
  },
  {
   "cell_type": "code",
   "execution_count": null,
   "metadata": {},
   "outputs": [],
   "source": []
  }
 ],
 "metadata": {
  "kernelspec": {
   "display_name": "Python (mask_rcnn)",
   "language": "python",
   "name": "mask_rcnn"
  },
  "language_info": {
   "codemirror_mode": {
    "name": "ipython",
    "version": 3
   },
   "file_extension": ".py",
   "mimetype": "text/x-python",
   "name": "python",
   "nbconvert_exporter": "python",
   "pygments_lexer": "ipython3",
   "version": "3.5.5"
  }
 },
 "nbformat": 4,
 "nbformat_minor": 2
}
