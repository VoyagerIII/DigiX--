{
 "cells": [
  {
   "cell_type": "markdown",
   "metadata": {},
   "source": [
    "# CATBOOST\n",
    "## 基本数据文件处理(age_train,age_test,user_basic_info,user_habavior_info)"
   ]
  },
  {
   "cell_type": "markdown",
   "metadata": {},
   "source": [
    "## 获得752维度的训练集(（trainData752.npz）)和测试集（testData752.npz）"
   ]
  },
  {
   "cell_type": "code",
   "execution_count": 7,
   "metadata": {},
   "outputs": [],
   "source": [
    "import numpy as np\n",
    "import pandas as pd\n",
    "from sklearn.impute import SimpleImputer\n",
    "# pd.set_option('display.max_columns',20)"
   ]
  },
  {
   "cell_type": "code",
   "execution_count": 8,
   "metadata": {},
   "outputs": [
    {
     "name": "stdout",
     "output_type": "stream",
     "text": [
      "(2010000, 2)\n",
      "       uId  age_group\n",
      "0  1000001          4\n",
      "1  1000011          3\n",
      "2  1000015          5\n",
      "3  1000019          3\n",
      "4  1000023          2\n"
     ]
    }
   ],
   "source": [
    "age_train_data = pd.read_csv( '../data/age_train.csv', header=None, names=['uId','age_group'])\n",
    "print(age_train_data.shape)\n",
    "print(age_train_data.head())"
   ]
  },
  {
   "cell_type": "code",
   "execution_count": 9,
   "metadata": {},
   "outputs": [
    {
     "name": "stdout",
     "output_type": "stream",
     "text": [
      "       uId  age_group\n",
      "0  1000001          4\n",
      "1  1000011          3\n",
      "2  1000015          5\n",
      "3  1000019          3\n",
      "4  1000023          2\n",
      "Index(['uId', 'age_group'], dtype='object')\n",
      "(2010000, 2)\n",
      "age_group缺失值数量为： 0\n",
      "3    600000\n",
      "4    500000\n",
      "2    400000\n",
      "5    300000\n",
      "6    150000\n",
      "1     60000\n",
      "Name: age_group, dtype: int64\n"
     ]
    }
   ],
   "source": [
    "print(age_train_data.head());print(age_train_data.columns);print(age_train_data.shape);print('age_group缺失值数量为：',age_train_data['age_group'].isnull().sum())\n",
    "print(age_train_data['age_group'].value_counts())\n",
    "age = age_train_data['age_group']\n",
    "age_train_data.drop(labels='age_group',inplace=True,axis=1)"
   ]
  },
  {
   "cell_type": "code",
   "execution_count": 11,
   "metadata": {},
   "outputs": [
    {
     "name": "stdout",
     "output_type": "stream",
     "text": [
      "       uId  gender    city prodName  ramCapacity  ramLeftRation  romCapacity  \\\n",
      "0  1000001       0  c00145   p00169          3.0           0.43         32.0   \n",
      "1  1000002       1   c0043    p0022          NaN           0.26          NaN   \n",
      "2  1000004       1  c00281    p0013          3.0           0.36         32.0   \n",
      "3  1000006       0  c00359    p0045          2.0           0.19         16.0   \n",
      "4  1000007       1    c006    p0097          6.0           0.20        137.0   \n",
      "\n",
      "   romLeftRation color  fontSize       ct        carrier   os  \n",
      "0           0.46   皓月银      1.15       4g   China_Mobile  8.0  \n",
      "1           0.59   渐变黑      1.00     wifi   China_Mobile  9.0  \n",
      "2           0.09   幻海蓝      1.00  4g#wifi   China_Mobile  8.0  \n",
      "3           0.42    灰色       NaN      NaN   China_Mobile  6.0  \n",
      "4           0.50   宝石蓝      1.00  4g#wifi  China_Telecom  9.0  \n"
     ]
    }
   ],
   "source": [
    "user_basic_info_data = pd.read_csv( r'../data/user_basic_info.csv',header=None,names=['uId','gender','city','prodName','ramCapacity','ramLeftRation',\n",
    "                                                                                        'romCapacity','romLeftRation','color','fontSize','ct','carrier','os'])\n",
    "print(user_basic_info_data.head())"
   ]
  },
  {
   "cell_type": "code",
   "execution_count": 15,
   "metadata": {},
   "outputs": [],
   "source": [
    "cat_features = pd.DataFrame(user_basic_info_data.values[:,[2,3,8,10,11]])"
   ]
  },
  {
   "cell_type": "code",
   "execution_count": 16,
   "metadata": {},
   "outputs": [
    {
     "data": {
      "text/plain": [
       "(2512500, 5)"
      ]
     },
     "execution_count": 16,
     "metadata": {},
     "output_type": "execute_result"
    }
   ],
   "source": [
    "cat_features.shape"
   ]
  },
  {
   "cell_type": "code",
   "execution_count": 18,
   "metadata": {},
   "outputs": [],
   "source": [
    "cat_features.iloc[:2010000].to_csv('../trainTestData/trainData5_cat_features.csv',encoding='utf-8',index=False)\n",
    "cat_features.iloc[2010000:].to_csv('../trainTestData/testData5_cat_features.csv',encoding='utf-8',index=False)"
   ]
  },
  {
   "cell_type": "code",
   "execution_count": null,
   "metadata": {},
   "outputs": [],
   "source": []
  }
 ],
 "metadata": {
  "kernelspec": {
   "display_name": "Python 3",
   "language": "python",
   "name": "python3"
  },
  "language_info": {
   "codemirror_mode": {
    "name": "ipython",
    "version": 3
   },
   "file_extension": ".py",
   "mimetype": "text/x-python",
   "name": "python",
   "nbconvert_exporter": "python",
   "pygments_lexer": "ipython3",
   "version": "3.6.5"
  }
 },
 "nbformat": 4,
 "nbformat_minor": 2
}
