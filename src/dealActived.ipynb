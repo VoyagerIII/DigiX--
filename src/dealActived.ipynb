{
 "cells": [
  {
   "cell_type": "markdown",
   "metadata": {},
   "source": [
    "# 训练集生成部分csr_trainData"
   ]
  },
  {
   "cell_type": "code",
   "execution_count": 1,
   "metadata": {},
   "outputs": [],
   "source": [
    "import numpy as np\n",
    "import pandas as pd"
   ]
  },
  {
   "cell_type": "code",
   "execution_count": 2,
   "metadata": {},
   "outputs": [
    {
     "data": {
      "text/plain": [
       "(2512500, 2)"
      ]
     },
     "execution_count": 2,
     "metadata": {},
     "output_type": "execute_result"
    }
   ],
   "source": [
    "user_actived = pd.read_csv(r'../data/user_app_actived.csv',header=None)\n",
    "user_actived.shape"
   ]
  },
  {
   "cell_type": "code",
   "execution_count": 3,
   "metadata": {
    "collapsed": true
   },
   "outputs": [
    {
     "data": {
      "text/html": [
       "<div>\n",
       "<style scoped>\n",
       "    .dataframe tbody tr th:only-of-type {\n",
       "        vertical-align: middle;\n",
       "    }\n",
       "\n",
       "    .dataframe tbody tr th {\n",
       "        vertical-align: top;\n",
       "    }\n",
       "\n",
       "    .dataframe thead th {\n",
       "        text-align: right;\n",
       "    }\n",
       "</style>\n",
       "<table border=\"1\" class=\"dataframe\">\n",
       "  <thead>\n",
       "    <tr style=\"text-align: right;\">\n",
       "      <th></th>\n",
       "      <th>0</th>\n",
       "      <th>1</th>\n",
       "    </tr>\n",
       "  </thead>\n",
       "  <tbody>\n",
       "    <tr>\n",
       "      <th>0</th>\n",
       "      <td>1000008</td>\n",
       "      <td>a00105157#a00109386#a00134746#a0013952#a001451...</td>\n",
       "    </tr>\n",
       "    <tr>\n",
       "      <th>1</th>\n",
       "      <td>1000010</td>\n",
       "      <td>a00102782#a00107077#a00109386#a00134746#a00136...</td>\n",
       "    </tr>\n",
       "    <tr>\n",
       "      <th>2</th>\n",
       "      <td>1000011</td>\n",
       "      <td>a00158535#a00163116#a00170432#a00187480#a00224...</td>\n",
       "    </tr>\n",
       "    <tr>\n",
       "      <th>3</th>\n",
       "      <td>1000013</td>\n",
       "      <td>a00109386#a0011601#a0012768#a00136287#a0014516...</td>\n",
       "    </tr>\n",
       "    <tr>\n",
       "      <th>4</th>\n",
       "      <td>1000014</td>\n",
       "      <td>a00109386#a0011894#a0013059#a00134840#a0013578...</td>\n",
       "    </tr>\n",
       "  </tbody>\n",
       "</table>\n",
       "</div>"
      ],
      "text/plain": [
       "         0                                                  1\n",
       "0  1000008  a00105157#a00109386#a00134746#a0013952#a001451...\n",
       "1  1000010  a00102782#a00107077#a00109386#a00134746#a00136...\n",
       "2  1000011  a00158535#a00163116#a00170432#a00187480#a00224...\n",
       "3  1000013  a00109386#a0011601#a0012768#a00136287#a0014516...\n",
       "4  1000014  a00109386#a0011894#a0013059#a00134840#a0013578..."
      ]
     },
     "execution_count": 3,
     "metadata": {},
     "output_type": "execute_result"
    }
   ],
   "source": [
    "user_actived.head()"
   ]
  },
  {
   "cell_type": "code",
   "execution_count": 4,
   "metadata": {},
   "outputs": [],
   "source": [
    "appList = {}\n",
    "for user in user_actived.values:\n",
    "    for app in user[1].split('#'):\n",
    "        if app!='\\\\N':\n",
    "            if app not in appList.keys():\n",
    "                appList[app] = 0\n",
    "#                 print(len(appList))"
   ]
  },
  {
   "cell_type": "code",
   "execution_count": 5,
   "metadata": {
    "collapsed": true
   },
   "outputs": [
    {
     "data": {
      "text/html": [
       "<div>\n",
       "<style scoped>\n",
       "    .dataframe tbody tr th:only-of-type {\n",
       "        vertical-align: middle;\n",
       "    }\n",
       "\n",
       "    .dataframe tbody tr th {\n",
       "        vertical-align: top;\n",
       "    }\n",
       "\n",
       "    .dataframe thead th {\n",
       "        text-align: right;\n",
       "    }\n",
       "</style>\n",
       "<table border=\"1\" class=\"dataframe\">\n",
       "  <thead>\n",
       "    <tr style=\"text-align: right;\">\n",
       "      <th></th>\n",
       "      <th>0</th>\n",
       "      <th>1</th>\n",
       "    </tr>\n",
       "  </thead>\n",
       "  <tbody>\n",
       "    <tr>\n",
       "      <th>0</th>\n",
       "      <td>1000001</td>\n",
       "      <td>4</td>\n",
       "    </tr>\n",
       "    <tr>\n",
       "      <th>1</th>\n",
       "      <td>1000011</td>\n",
       "      <td>3</td>\n",
       "    </tr>\n",
       "    <tr>\n",
       "      <th>2</th>\n",
       "      <td>1000015</td>\n",
       "      <td>5</td>\n",
       "    </tr>\n",
       "    <tr>\n",
       "      <th>3</th>\n",
       "      <td>1000019</td>\n",
       "      <td>3</td>\n",
       "    </tr>\n",
       "    <tr>\n",
       "      <th>4</th>\n",
       "      <td>1000023</td>\n",
       "      <td>2</td>\n",
       "    </tr>\n",
       "  </tbody>\n",
       "</table>\n",
       "</div>"
      ],
      "text/plain": [
       "         0  1\n",
       "0  1000001  4\n",
       "1  1000011  3\n",
       "2  1000015  5\n",
       "3  1000019  3\n",
       "4  1000023  2"
      ]
     },
     "execution_count": 5,
     "metadata": {},
     "output_type": "execute_result"
    }
   ],
   "source": [
    "age_train = pd.read_csv(r'../data/age_train.csv',header=None)\n",
    "age = age_train[1]\n",
    "age_train.head()"
   ]
  },
  {
   "cell_type": "code",
   "execution_count": 6,
   "metadata": {},
   "outputs": [
    {
     "data": {
      "text/plain": [
       "2010000"
      ]
     },
     "execution_count": 6,
     "metadata": {},
     "output_type": "execute_result"
    }
   ],
   "source": [
    "user_row = {}\n",
    "i=0\n",
    "for user in age_train.values:\n",
    "    user_row[user[0]] = i\n",
    "    i += 1\n",
    "len(user_row) #一共有2010000行"
   ]
  },
  {
   "cell_type": "code",
   "execution_count": 7,
   "metadata": {},
   "outputs": [
    {
     "data": {
      "text/plain": [
       "(2010000, 3)"
      ]
     },
     "execution_count": 7,
     "metadata": {},
     "output_type": "execute_result"
    }
   ],
   "source": [
    "trainData = pd.merge(age_train,user_actived,how='inner',on=0)\n",
    "trainData.shape"
   ]
  },
  {
   "cell_type": "code",
   "execution_count": 8,
   "metadata": {
    "collapsed": true
   },
   "outputs": [
    {
     "data": {
      "text/html": [
       "<div>\n",
       "<style scoped>\n",
       "    .dataframe tbody tr th:only-of-type {\n",
       "        vertical-align: middle;\n",
       "    }\n",
       "\n",
       "    .dataframe tbody tr th {\n",
       "        vertical-align: top;\n",
       "    }\n",
       "\n",
       "    .dataframe thead th {\n",
       "        text-align: right;\n",
       "    }\n",
       "</style>\n",
       "<table border=\"1\" class=\"dataframe\">\n",
       "  <thead>\n",
       "    <tr style=\"text-align: right;\">\n",
       "      <th></th>\n",
       "      <th>0</th>\n",
       "      <th>1_y</th>\n",
       "    </tr>\n",
       "  </thead>\n",
       "  <tbody>\n",
       "    <tr>\n",
       "      <th>0</th>\n",
       "      <td>1000001</td>\n",
       "      <td>a00140327#a00170298#a00184278#a00187480#a00239...</td>\n",
       "    </tr>\n",
       "    <tr>\n",
       "      <th>1</th>\n",
       "      <td>1000011</td>\n",
       "      <td>a00158535#a00163116#a00170432#a00187480#a00224...</td>\n",
       "    </tr>\n",
       "    <tr>\n",
       "      <th>2</th>\n",
       "      <td>1000015</td>\n",
       "      <td>a00109386#a00170432#a0021880#a00244790#a002475...</td>\n",
       "    </tr>\n",
       "    <tr>\n",
       "      <th>3</th>\n",
       "      <td>1000019</td>\n",
       "      <td>a00157060#a00274701</td>\n",
       "    </tr>\n",
       "    <tr>\n",
       "      <th>4</th>\n",
       "      <td>1000023</td>\n",
       "      <td>a00170298#a00203358#a00275200#a00278905#a00289...</td>\n",
       "    </tr>\n",
       "  </tbody>\n",
       "</table>\n",
       "</div>"
      ],
      "text/plain": [
       "         0                                                1_y\n",
       "0  1000001  a00140327#a00170298#a00184278#a00187480#a00239...\n",
       "1  1000011  a00158535#a00163116#a00170432#a00187480#a00224...\n",
       "2  1000015  a00109386#a00170432#a0021880#a00244790#a002475...\n",
       "3  1000019                                a00157060#a00274701\n",
       "4  1000023  a00170298#a00203358#a00275200#a00278905#a00289..."
      ]
     },
     "execution_count": 8,
     "metadata": {},
     "output_type": "execute_result"
    }
   ],
   "source": [
    "trainData.drop(columns=['1_x'],inplace=True,axis=1)\n",
    "trainData.head()"
   ]
  },
  {
   "cell_type": "code",
   "execution_count": 9,
   "metadata": {},
   "outputs": [],
   "source": [
    "all_user_app = []\n",
    "user_app = []\n",
    "batch_size, i=1000,0\n",
    "for user in trainData.values:\n",
    "#     print(i)\n",
    "    i += 1\n",
    "    for app in user[1].split('#'):\n",
    "        if app!='\\\\N':\n",
    "            # [uId,appId,trainRow]\n",
    "            user_app.append(user[0])\n",
    "            user_app.append(app)\n",
    "            user_app.append(user_row[user[0]])\n",
    "            all_user_app.append(user_app)\n",
    "            user_app = []\n",
    "    if i == batch_size:\n",
    "        all_user_app = pd.DataFrame(all_user_app)\n",
    "        all_user_app.to_csv(r'../processed/user_app_train.csv',header=None,index=False,mode='a')\n",
    "        all_user_app = []\n",
    "        i= 0"
   ]
  },
  {
   "cell_type": "code",
   "execution_count": 10,
   "metadata": {},
   "outputs": [],
   "source": [
    "all_user_app = pd.DataFrame(all_user_app)\n",
    "all_user_app.to_csv(r'../processed/user_app_train.csv',header=None,index=False,mode='a')\n",
    "all_user_app = []"
   ]
  },
  {
   "cell_type": "code",
   "execution_count": 11,
   "metadata": {
    "collapsed": true
   },
   "outputs": [
    {
     "name": "stdout",
     "output_type": "stream",
     "text": [
      "(81430336, 3)\n",
      "         0          1  2\n",
      "0  1000001  a00140327  0\n",
      "1  1000001  a00170298  0\n",
      "2  1000001  a00184278  0\n",
      "3  1000001  a00187480  0\n",
      "4  1000001  a00239194  0\n"
     ]
    }
   ],
   "source": [
    "user_oneapp = pd.read_csv(r'../processed/user_app_train.csv',header=None)\n",
    "print(user_oneapp.shape)\n",
    "print(user_oneapp.head())"
   ]
  },
  {
   "cell_type": "code",
   "execution_count": 12,
   "metadata": {
    "collapsed": true
   },
   "outputs": [
    {
     "data": {
      "text/plain": [
       "3164162    888\n",
       "2302802    879\n",
       "2336718    788\n",
       "1272000    729\n",
       "2330365    641\n",
       "3335430    455\n",
       "3126464    425\n",
       "2961237    411\n",
       "2236225    394\n",
       "1534093    393\n",
       "1930761    391\n",
       "2631602    376\n",
       "3446850    372\n",
       "3423788    360\n",
       "2636575    357\n",
       "3332406    352\n",
       "3498641    343\n",
       "1152634    340\n",
       "2196452    339\n",
       "3474711    335\n",
       "1808338    334\n",
       "1806002    324\n",
       "3020169    314\n",
       "2349007    312\n",
       "2758264    310\n",
       "2931701    306\n",
       "1375993    306\n",
       "3220886    305\n",
       "2389986    304\n",
       "1994431    303\n",
       "          ... \n",
       "2244058      1\n",
       "1972413      1\n",
       "1790759      1\n",
       "1421840      1\n",
       "2902682      1\n",
       "1927146      1\n",
       "1711165      1\n",
       "2558827      1\n",
       "2469909      1\n",
       "1507700      1\n",
       "1920188      1\n",
       "1928978      1\n",
       "2238415      1\n",
       "1788132      1\n",
       "1281514      1\n",
       "3178610      1\n",
       "2155989      1\n",
       "2160449      1\n",
       "2743796      1\n",
       "1231132      1\n",
       "2028913      1\n",
       "2773594      1\n",
       "1557640      1\n",
       "1122730      1\n",
       "3014400      1\n",
       "3160870      1\n",
       "3460568      1\n",
       "1785413      1\n",
       "1806668      1\n",
       "2859971      1\n",
       "Name: 0, Length: 2007016, dtype: int64"
      ]
     },
     "execution_count": 12,
     "metadata": {},
     "output_type": "execute_result"
    }
   ],
   "source": [
    "user_oneapp[0].value_counts()"
   ]
  },
  {
   "cell_type": "code",
   "execution_count": 13,
   "metadata": {
    "collapsed": true
   },
   "outputs": [
    {
     "data": {
      "text/plain": [
       "a00289791    1871244\n",
       "a0048467     1670213\n",
       "a00287085    1635840\n",
       "a00109386    1606028\n",
       "a00289826    1539363\n",
       "a00311680    1357829\n",
       "a0021880     1308403\n",
       "a00244790    1295782\n",
       "a0046242     1174456\n",
       "a00170432    1135763\n",
       "a00261220    1029708\n",
       "a0048562      990818\n",
       "a00290015     966082\n",
       "a00278905     918023\n",
       "a00271087     892561\n",
       "a00247519     877745\n",
       "a00289850     797307\n",
       "a00145168     738735\n",
       "a00348507     673848\n",
       "a00290027     663263\n",
       "a00278858     658261\n",
       "a00289519     648931\n",
       "a0048522      648385\n",
       "a0071100      641478\n",
       "a00289511     617449\n",
       "a00263057     612070\n",
       "a00373197     610785\n",
       "a00187480     578765\n",
       "a00157201     567064\n",
       "a00289866     557965\n",
       "              ...   \n",
       "a00115836          4\n",
       "a0081557           3\n",
       "a0097497           3\n",
       "a00128927          3\n",
       "a00282547          3\n",
       "a00215699          3\n",
       "a00161952          3\n",
       "a00216321          3\n",
       "a00215534          3\n",
       "a0038270           3\n",
       "a00117775          3\n",
       "a0080944           3\n",
       "a00207710          3\n",
       "a00294809          3\n",
       "a00270235          2\n",
       "a00445708          2\n",
       "a00171281          2\n",
       "a00471278          2\n",
       "a00216249          2\n",
       "a00229848          2\n",
       "a00465536          2\n",
       "a00140477          1\n",
       "a00254405          1\n",
       "a00128441          1\n",
       "a00223894          1\n",
       "a00232931          1\n",
       "a00209087          1\n",
       "a00467328          1\n",
       "a00289133          1\n",
       "a00196203          1\n",
       "Name: 1, Length: 9399, dtype: int64"
      ]
     },
     "execution_count": 13,
     "metadata": {},
     "output_type": "execute_result"
    }
   ],
   "source": [
    "user_oneapp[1].value_counts()"
   ]
  },
  {
   "cell_type": "code",
   "execution_count": 14,
   "metadata": {},
   "outputs": [],
   "source": [
    "from sklearn.preprocessing import LabelEncoder"
   ]
  },
  {
   "cell_type": "code",
   "execution_count": 15,
   "metadata": {},
   "outputs": [
    {
     "data": {
      "text/plain": [
       "9400"
      ]
     },
     "execution_count": 15,
     "metadata": {},
     "output_type": "execute_result"
    }
   ],
   "source": [
    "len(appList)"
   ]
  },
  {
   "cell_type": "code",
   "execution_count": 16,
   "metadata": {
    "collapsed": true
   },
   "outputs": [
    {
     "data": {
      "text/html": [
       "<div>\n",
       "<style scoped>\n",
       "    .dataframe tbody tr th:only-of-type {\n",
       "        vertical-align: middle;\n",
       "    }\n",
       "\n",
       "    .dataframe tbody tr th {\n",
       "        vertical-align: top;\n",
       "    }\n",
       "\n",
       "    .dataframe thead th {\n",
       "        text-align: right;\n",
       "    }\n",
       "</style>\n",
       "<table border=\"1\" class=\"dataframe\">\n",
       "  <thead>\n",
       "    <tr style=\"text-align: right;\">\n",
       "      <th></th>\n",
       "      <th>0</th>\n",
       "      <th>1</th>\n",
       "      <th>2</th>\n",
       "    </tr>\n",
       "  </thead>\n",
       "  <tbody>\n",
       "    <tr>\n",
       "      <th>0</th>\n",
       "      <td>1000001</td>\n",
       "      <td>916</td>\n",
       "      <td>0</td>\n",
       "    </tr>\n",
       "    <tr>\n",
       "      <th>1</th>\n",
       "      <td>1000001</td>\n",
       "      <td>1874</td>\n",
       "      <td>0</td>\n",
       "    </tr>\n",
       "    <tr>\n",
       "      <th>2</th>\n",
       "      <td>1000001</td>\n",
       "      <td>2192</td>\n",
       "      <td>0</td>\n",
       "    </tr>\n",
       "    <tr>\n",
       "      <th>3</th>\n",
       "      <td>1000001</td>\n",
       "      <td>2292</td>\n",
       "      <td>0</td>\n",
       "    </tr>\n",
       "    <tr>\n",
       "      <th>4</th>\n",
       "      <td>1000001</td>\n",
       "      <td>3844</td>\n",
       "      <td>0</td>\n",
       "    </tr>\n",
       "  </tbody>\n",
       "</table>\n",
       "</div>"
      ],
      "text/plain": [
       "         0     1  2\n",
       "0  1000001   916  0\n",
       "1  1000001  1874  0\n",
       "2  1000001  2192  0\n",
       "3  1000001  2292  0\n",
       "4  1000001  3844  0"
      ]
     },
     "execution_count": 16,
     "metadata": {},
     "output_type": "execute_result"
    }
   ],
   "source": [
    "appencoder = LabelEncoder().fit(list(appList.keys()))\n",
    "user_oneapp[1] = appencoder.transform(user_oneapp[1])\n",
    "user_oneapp.head()"
   ]
  },
  {
   "cell_type": "code",
   "execution_count": 17,
   "metadata": {
    "collapsed": true
   },
   "outputs": [
    {
     "name": "stdout",
     "output_type": "stream",
     "text": [
      "(4000, 1)\n",
      "           0\n",
      "0  a00224427\n",
      "1  a00292780\n",
      "2  a00292472\n",
      "3  a00481059\n",
      "4  a00278905\n"
     ]
    }
   ],
   "source": [
    "important_app = pd.read_csv(r'../processed/importance_app_inActivate.csv',header=None)\n",
    "print(important_app.shape)\n",
    "print(important_app.head())"
   ]
  },
  {
   "cell_type": "code",
   "execution_count": 18,
   "metadata": {
    "scrolled": true
   },
   "outputs": [
    {
     "data": {
      "text/plain": [
       "array([3377, 5402, 5389, 8045, 4939, 5303, 5306, 5212, 5269, 4828])"
      ]
     },
     "execution_count": 18,
     "metadata": {},
     "output_type": "execute_result"
    }
   ],
   "source": [
    "important_app_rowIndex = appencoder.transform(important_app[0].values)\n",
    "important_app_rowIndex[range(10)]"
   ]
  },
  {
   "cell_type": "code",
   "execution_count": 19,
   "metadata": {},
   "outputs": [],
   "source": [
    "important_app_rowIndex = pd.DataFrame(important_app_rowIndex)\n",
    "important_app_rowIndex.to_csv(r'../processed/important_app_rowIndex.csv',header=None,index=False)"
   ]
  },
  {
   "cell_type": "code",
   "execution_count": 20,
   "metadata": {},
   "outputs": [],
   "source": [
    "from scipy.sparse import csr_matrix, hstack"
   ]
  },
  {
   "cell_type": "code",
   "execution_count": 21,
   "metadata": {},
   "outputs": [
    {
     "data": {
      "text/plain": [
       "(2010000, 9400)"
      ]
     },
     "execution_count": 21,
     "metadata": {},
     "output_type": "execute_result"
    }
   ],
   "source": [
    "csr_trainData = csr_matrix((np.ones(user_oneapp.shape[0]),(user_oneapp[2],user_oneapp[1])),shape=(2010000,9400))\n",
    "csr_trainData.shape"
   ]
  },
  {
   "cell_type": "code",
   "execution_count": 22,
   "metadata": {},
   "outputs": [],
   "source": [
    "from scipy import sparse"
   ]
  },
  {
   "cell_type": "code",
   "execution_count": 23,
   "metadata": {},
   "outputs": [],
   "source": [
    "sparse.save_npz(r'../trainTestData/trainData9400.npz',csr_trainData)"
   ]
  },
  {
   "cell_type": "code",
   "execution_count": 24,
   "metadata": {},
   "outputs": [
    {
     "name": "stdout",
     "output_type": "stream",
     "text": [
      "(2010000, 4000)\n"
     ]
    }
   ],
   "source": [
    "csr_trainData = sparse.csr_matrix(csr_trainData[:,important_app_rowIndex[0].values])\n",
    "print(csr_trainData.shape)"
   ]
  },
  {
   "cell_type": "code",
   "execution_count": 25,
   "metadata": {},
   "outputs": [],
   "source": [
    "sparse.save_npz(r'../trainTestData/trainData4000.npz',csr_trainData)"
   ]
  },
  {
   "cell_type": "markdown",
   "metadata": {},
   "source": [
    "# 测试集生成部分csr_testData"
   ]
  },
  {
   "cell_type": "code",
   "execution_count": 26,
   "metadata": {},
   "outputs": [],
   "source": [
    "import numpy as np\n",
    "import pandas as pd"
   ]
  },
  {
   "cell_type": "code",
   "execution_count": 27,
   "metadata": {},
   "outputs": [
    {
     "data": {
      "text/plain": [
       "(2512500, 2)"
      ]
     },
     "execution_count": 27,
     "metadata": {},
     "output_type": "execute_result"
    }
   ],
   "source": [
    "user_actived = pd.read_csv(r'../data/user_app_actived.csv',header=None)\n",
    "user_actived.shape"
   ]
  },
  {
   "cell_type": "code",
   "execution_count": 28,
   "metadata": {},
   "outputs": [
    {
     "data": {
      "text/html": [
       "<div>\n",
       "<style scoped>\n",
       "    .dataframe tbody tr th:only-of-type {\n",
       "        vertical-align: middle;\n",
       "    }\n",
       "\n",
       "    .dataframe tbody tr th {\n",
       "        vertical-align: top;\n",
       "    }\n",
       "\n",
       "    .dataframe thead th {\n",
       "        text-align: right;\n",
       "    }\n",
       "</style>\n",
       "<table border=\"1\" class=\"dataframe\">\n",
       "  <thead>\n",
       "    <tr style=\"text-align: right;\">\n",
       "      <th></th>\n",
       "      <th>0</th>\n",
       "      <th>1</th>\n",
       "    </tr>\n",
       "  </thead>\n",
       "  <tbody>\n",
       "    <tr>\n",
       "      <th>0</th>\n",
       "      <td>1000008</td>\n",
       "      <td>a00105157#a00109386#a00134746#a0013952#a001451...</td>\n",
       "    </tr>\n",
       "    <tr>\n",
       "      <th>1</th>\n",
       "      <td>1000010</td>\n",
       "      <td>a00102782#a00107077#a00109386#a00134746#a00136...</td>\n",
       "    </tr>\n",
       "    <tr>\n",
       "      <th>2</th>\n",
       "      <td>1000011</td>\n",
       "      <td>a00158535#a00163116#a00170432#a00187480#a00224...</td>\n",
       "    </tr>\n",
       "    <tr>\n",
       "      <th>3</th>\n",
       "      <td>1000013</td>\n",
       "      <td>a00109386#a0011601#a0012768#a00136287#a0014516...</td>\n",
       "    </tr>\n",
       "    <tr>\n",
       "      <th>4</th>\n",
       "      <td>1000014</td>\n",
       "      <td>a00109386#a0011894#a0013059#a00134840#a0013578...</td>\n",
       "    </tr>\n",
       "  </tbody>\n",
       "</table>\n",
       "</div>"
      ],
      "text/plain": [
       "         0                                                  1\n",
       "0  1000008  a00105157#a00109386#a00134746#a0013952#a001451...\n",
       "1  1000010  a00102782#a00107077#a00109386#a00134746#a00136...\n",
       "2  1000011  a00158535#a00163116#a00170432#a00187480#a00224...\n",
       "3  1000013  a00109386#a0011601#a0012768#a00136287#a0014516...\n",
       "4  1000014  a00109386#a0011894#a0013059#a00134840#a0013578..."
      ]
     },
     "execution_count": 28,
     "metadata": {},
     "output_type": "execute_result"
    }
   ],
   "source": [
    "user_actived.head()"
   ]
  },
  {
   "cell_type": "code",
   "execution_count": 29,
   "metadata": {},
   "outputs": [],
   "source": [
    "appList = {}\n",
    "for user in user_actived.values:\n",
    "    for app in user[1].split('#'):\n",
    "        if app!='\\\\N':\n",
    "            if app not in appList.keys():\n",
    "                appList[app] = 0\n",
    "#                 print(len(appList))"
   ]
  },
  {
   "cell_type": "code",
   "execution_count": 30,
   "metadata": {},
   "outputs": [
    {
     "data": {
      "text/html": [
       "<div>\n",
       "<style scoped>\n",
       "    .dataframe tbody tr th:only-of-type {\n",
       "        vertical-align: middle;\n",
       "    }\n",
       "\n",
       "    .dataframe tbody tr th {\n",
       "        vertical-align: top;\n",
       "    }\n",
       "\n",
       "    .dataframe thead th {\n",
       "        text-align: right;\n",
       "    }\n",
       "</style>\n",
       "<table border=\"1\" class=\"dataframe\">\n",
       "  <thead>\n",
       "    <tr style=\"text-align: right;\">\n",
       "      <th></th>\n",
       "      <th>0</th>\n",
       "    </tr>\n",
       "  </thead>\n",
       "  <tbody>\n",
       "    <tr>\n",
       "      <th>0</th>\n",
       "      <td>1000002</td>\n",
       "    </tr>\n",
       "    <tr>\n",
       "      <th>1</th>\n",
       "      <td>1000003</td>\n",
       "    </tr>\n",
       "    <tr>\n",
       "      <th>2</th>\n",
       "      <td>1000004</td>\n",
       "    </tr>\n",
       "    <tr>\n",
       "      <th>3</th>\n",
       "      <td>1000005</td>\n",
       "    </tr>\n",
       "    <tr>\n",
       "      <th>4</th>\n",
       "      <td>1000006</td>\n",
       "    </tr>\n",
       "  </tbody>\n",
       "</table>\n",
       "</div>"
      ],
      "text/plain": [
       "         0\n",
       "0  1000002\n",
       "1  1000003\n",
       "2  1000004\n",
       "3  1000005\n",
       "4  1000006"
      ]
     },
     "execution_count": 30,
     "metadata": {},
     "output_type": "execute_result"
    }
   ],
   "source": [
    "age_test = pd.read_csv(r'../data/age_test.csv',header=None)\n",
    "age_test.head()"
   ]
  },
  {
   "cell_type": "code",
   "execution_count": 31,
   "metadata": {},
   "outputs": [
    {
     "data": {
      "text/plain": [
       "502500"
      ]
     },
     "execution_count": 31,
     "metadata": {},
     "output_type": "execute_result"
    }
   ],
   "source": [
    "user_row = {}\n",
    "i=0\n",
    "for user in age_test.values:\n",
    "    user_row[user[0]] = i\n",
    "    i += 1\n",
    "len(user_row) #一共有502500行"
   ]
  },
  {
   "cell_type": "code",
   "execution_count": 32,
   "metadata": {},
   "outputs": [
    {
     "data": {
      "text/plain": [
       "(502500, 2)"
      ]
     },
     "execution_count": 32,
     "metadata": {},
     "output_type": "execute_result"
    }
   ],
   "source": [
    "testData = pd.merge(age_test,user_actived,how='inner',on=0)\n",
    "testData.shape"
   ]
  },
  {
   "cell_type": "code",
   "execution_count": 33,
   "metadata": {},
   "outputs": [],
   "source": [
    "all_user_app = []\n",
    "user_app = []\n",
    "batch_size, i=1000,0\n",
    "for user in testData.values:\n",
    "#     print(i)\n",
    "    i += 1\n",
    "    for app in user[1].split('#'):\n",
    "        if app!='\\\\N':\n",
    "            # [uId,appId,trainRow]\n",
    "            user_app.append(user[0])\n",
    "            user_app.append(app)\n",
    "            user_app.append(user_row[user[0]])\n",
    "            all_user_app.append(user_app)\n",
    "            user_app = []\n",
    "    if i == batch_size:\n",
    "        all_user_app = pd.DataFrame(all_user_app)\n",
    "        all_user_app.to_csv(r'../processed/user_app_test.csv',header=None,index=False,mode='a')\n",
    "        all_user_app = []\n",
    "        i = 0"
   ]
  },
  {
   "cell_type": "code",
   "execution_count": 34,
   "metadata": {},
   "outputs": [],
   "source": [
    "all_user_app = pd.DataFrame(all_user_app)\n",
    "all_user_app.to_csv(r'../processed/user_app_test.csv',header=None,index=False,mode='a')\n",
    "all_user_app = []"
   ]
  },
  {
   "cell_type": "code",
   "execution_count": 35,
   "metadata": {},
   "outputs": [
    {
     "name": "stdout",
     "output_type": "stream",
     "text": [
      "(20369112, 3)\n",
      "         0          1  2\n",
      "0  1000002  a00109386  0\n",
      "1  1000002   a0011759  0\n",
      "2  1000002  a00120252  0\n",
      "3  1000002  a00120564  0\n",
      "4  1000002  a00122966  0\n"
     ]
    }
   ],
   "source": [
    "user_oneapp = pd.read_csv(r'../processed/user_app_test.csv',header=None)\n",
    "print(user_oneapp.shape)\n",
    "print(user_oneapp.head())"
   ]
  },
  {
   "cell_type": "code",
   "execution_count": 36,
   "metadata": {},
   "outputs": [
    {
     "data": {
      "text/plain": [
       "1451518    851\n",
       "1008159    745\n",
       "1157842    652\n",
       "1587605    467\n",
       "1734351    316\n",
       "1025748    298\n",
       "1520168    297\n",
       "1337567    296\n",
       "2183012    277\n",
       "1743533    277\n",
       "1556159    274\n",
       "1520460    272\n",
       "1185742    271\n",
       "1407205    270\n",
       "1396563    269\n",
       "2167331    268\n",
       "1188479    268\n",
       "1146641    265\n",
       "1166146    263\n",
       "1054561    263\n",
       "1458209    262\n",
       "1407140    261\n",
       "1461195    255\n",
       "1353436    250\n",
       "1112013    245\n",
       "2196808    244\n",
       "2339676    242\n",
       "1163282    240\n",
       "1721118    240\n",
       "1277904    238\n",
       "          ... \n",
       "1464424      1\n",
       "1415001      1\n",
       "1186888      1\n",
       "1480063      1\n",
       "2299873      1\n",
       "1743853      1\n",
       "1280826      1\n",
       "1827742      1\n",
       "1835948      1\n",
       "1350193      1\n",
       "1259778      1\n",
       "1456289      1\n",
       "1957794      1\n",
       "1515142      1\n",
       "1644150      1\n",
       "1040205      1\n",
       "1154424      1\n",
       "1018880      1\n",
       "1289471      1\n",
       "1949744      1\n",
       "1164633      1\n",
       "1359004      1\n",
       "1318361      1\n",
       "1693776      1\n",
       "1824664      1\n",
       "1290062      1\n",
       "1657445      1\n",
       "2328493      1\n",
       "1369171      1\n",
       "1353330      1\n",
       "Name: 0, Length: 501746, dtype: int64"
      ]
     },
     "execution_count": 36,
     "metadata": {},
     "output_type": "execute_result"
    }
   ],
   "source": [
    "user_oneapp[0].value_counts()"
   ]
  },
  {
   "cell_type": "code",
   "execution_count": 37,
   "metadata": {},
   "outputs": [
    {
     "data": {
      "text/plain": [
       "a00289791    467804\n",
       "a0048467     417478\n",
       "a00287085    409432\n",
       "a00109386    401047\n",
       "a00289826    384567\n",
       "a00311680    339772\n",
       "a0021880     326738\n",
       "a00244790    323819\n",
       "a0046242     293673\n",
       "a00170432    284755\n",
       "a00261220    258020\n",
       "a0048562     248653\n",
       "a00290015    241819\n",
       "a00278905    230093\n",
       "a00271087    223144\n",
       "a00247519    220083\n",
       "a00289850    199943\n",
       "a00145168    185310\n",
       "a00348507    168644\n",
       "a00290027    166052\n",
       "a00278858    165110\n",
       "a00289519    161992\n",
       "a0048522     161817\n",
       "a0071100     160892\n",
       "a00289511    154297\n",
       "a00373197    153226\n",
       "a00263057    152902\n",
       "a00187480    144693\n",
       "a00157201    142390\n",
       "a00289866    139588\n",
       "              ...  \n",
       "a00171282         1\n",
       "a00270236         1\n",
       "a00465536         1\n",
       "a00216683         1\n",
       "a00477412         1\n",
       "a00209103         1\n",
       "a00229816         1\n",
       "a00128927         1\n",
       "a0040316          1\n",
       "a00215699         1\n",
       "a00196203         1\n",
       "a00294802         1\n",
       "a00283922         1\n",
       "a00171284         1\n",
       "a00207710         1\n",
       "a00254405         1\n",
       "a00476594         1\n",
       "a0038705          1\n",
       "a00262310         1\n",
       "a00125784         1\n",
       "a00445708         1\n",
       "a00467328         1\n",
       "a007650           1\n",
       "a00471278         1\n",
       "a00115836         1\n",
       "a00295833         1\n",
       "a00294809         1\n",
       "a00283933         1\n",
       "a0050878          1\n",
       "a00447605         1\n",
       "Name: 1, Length: 9372, dtype: int64"
      ]
     },
     "execution_count": 37,
     "metadata": {},
     "output_type": "execute_result"
    }
   ],
   "source": [
    "user_oneapp[1].value_counts()"
   ]
  },
  {
   "cell_type": "code",
   "execution_count": 38,
   "metadata": {},
   "outputs": [],
   "source": [
    "from sklearn.preprocessing import LabelEncoder"
   ]
  },
  {
   "cell_type": "code",
   "execution_count": 39,
   "metadata": {},
   "outputs": [
    {
     "data": {
      "text/plain": [
       "9400"
      ]
     },
     "execution_count": 39,
     "metadata": {},
     "output_type": "execute_result"
    }
   ],
   "source": [
    "len(appList)"
   ]
  },
  {
   "cell_type": "code",
   "execution_count": 40,
   "metadata": {},
   "outputs": [
    {
     "data": {
      "text/html": [
       "<div>\n",
       "<style scoped>\n",
       "    .dataframe tbody tr th:only-of-type {\n",
       "        vertical-align: middle;\n",
       "    }\n",
       "\n",
       "    .dataframe tbody tr th {\n",
       "        vertical-align: top;\n",
       "    }\n",
       "\n",
       "    .dataframe thead th {\n",
       "        text-align: right;\n",
       "    }\n",
       "</style>\n",
       "<table border=\"1\" class=\"dataframe\">\n",
       "  <thead>\n",
       "    <tr style=\"text-align: right;\">\n",
       "      <th></th>\n",
       "      <th>0</th>\n",
       "      <th>1</th>\n",
       "      <th>2</th>\n",
       "    </tr>\n",
       "  </thead>\n",
       "  <tbody>\n",
       "    <tr>\n",
       "      <th>0</th>\n",
       "      <td>1000002</td>\n",
       "      <td>215</td>\n",
       "      <td>0</td>\n",
       "    </tr>\n",
       "    <tr>\n",
       "      <th>1</th>\n",
       "      <td>1000002</td>\n",
       "      <td>348</td>\n",
       "      <td>0</td>\n",
       "    </tr>\n",
       "    <tr>\n",
       "      <th>2</th>\n",
       "      <td>1000002</td>\n",
       "      <td>435</td>\n",
       "      <td>0</td>\n",
       "    </tr>\n",
       "    <tr>\n",
       "      <th>3</th>\n",
       "      <td>1000002</td>\n",
       "      <td>452</td>\n",
       "      <td>0</td>\n",
       "    </tr>\n",
       "    <tr>\n",
       "      <th>4</th>\n",
       "      <td>1000002</td>\n",
       "      <td>525</td>\n",
       "      <td>0</td>\n",
       "    </tr>\n",
       "  </tbody>\n",
       "</table>\n",
       "</div>"
      ],
      "text/plain": [
       "         0    1  2\n",
       "0  1000002  215  0\n",
       "1  1000002  348  0\n",
       "2  1000002  435  0\n",
       "3  1000002  452  0\n",
       "4  1000002  525  0"
      ]
     },
     "execution_count": 40,
     "metadata": {},
     "output_type": "execute_result"
    }
   ],
   "source": [
    "appencoder = LabelEncoder().fit(list(appList.keys()))\n",
    "user_oneapp[1] = appencoder.transform(user_oneapp[1])\n",
    "user_oneapp.head()"
   ]
  },
  {
   "cell_type": "code",
   "execution_count": 41,
   "metadata": {},
   "outputs": [],
   "source": [
    "from scipy.sparse import csr_matrix, hstack"
   ]
  },
  {
   "cell_type": "code",
   "execution_count": 42,
   "metadata": {},
   "outputs": [
    {
     "data": {
      "text/plain": [
       "(502500, 9400)"
      ]
     },
     "execution_count": 42,
     "metadata": {},
     "output_type": "execute_result"
    }
   ],
   "source": [
    "csr_testData = csr_matrix((np.ones(user_oneapp.shape[0]),(user_oneapp[2],user_oneapp[1])),shape=(502500,9400))\n",
    "csr_testData.shape"
   ]
  },
  {
   "cell_type": "code",
   "execution_count": 43,
   "metadata": {},
   "outputs": [],
   "source": [
    "from scipy import sparse"
   ]
  },
  {
   "cell_type": "code",
   "execution_count": 44,
   "metadata": {},
   "outputs": [],
   "source": [
    "sparse.save_npz(r'../trainTestData/testData9400.npz',csr_testData)"
   ]
  },
  {
   "cell_type": "code",
   "execution_count": 45,
   "metadata": {},
   "outputs": [
    {
     "name": "stdout",
     "output_type": "stream",
     "text": [
      "(502500, 4000)\n"
     ]
    }
   ],
   "source": [
    "csr_testData = sparse.csr_matrix(csr_testData[:,important_app_rowIndex[0].values])\n",
    "print(csr_testData.shape)"
   ]
  },
  {
   "cell_type": "code",
   "execution_count": 46,
   "metadata": {},
   "outputs": [],
   "source": [
    "sparse.save_npz(r'../trainTestData/testData4000.npz',csr_testData)"
   ]
  }
 ],
 "metadata": {
  "kernelspec": {
   "display_name": "Python 3",
   "language": "python",
   "name": "python3"
  },
  "language_info": {
   "codemirror_mode": {
    "name": "ipython",
    "version": 3
   },
   "file_extension": ".py",
   "mimetype": "text/x-python",
   "name": "python",
   "nbconvert_exporter": "python",
   "pygments_lexer": "ipython3",
   "version": "3.6.8"
  }
 },
 "nbformat": 4,
 "nbformat_minor": 2
}
