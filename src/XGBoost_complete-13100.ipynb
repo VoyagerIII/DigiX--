{
 "cells": [
  {
   "cell_type": "markdown",
   "metadata": {},
   "source": [
    "# 用户人口属性预测\n",
    "手机用户的人口属性（如性别、年龄、常驻地等）数据一方面可以被用于个性化推荐服务，提升用户体验，另一方面可以用于手机用户群画像分析，帮助厂商了解产品的人群定位，优化产品设计。"
   ]
  },
  {
   "cell_type": "code",
   "execution_count": null,
   "metadata": {
    "ExecuteTime": {
     "end_time": "2019-05-30T01:17:15.198374Z",
     "start_time": "2019-05-30T01:17:15.193251Z"
    }
   },
   "outputs": [],
   "source": [
    "from __future__ import division\n",
    "\n",
    "import numpy as np\n",
    "import xgboost as xgb\n",
    "import pickle\n",
    "import pandas as pd\n",
    "\n",
    "import matplotlib.pyplot as plt\n",
    "import matplotlib\n",
    "\n",
    "from tqdm import tqdm\n",
    "\n",
    "import gc\n",
    "\n",
    "import warnings\n",
    "import random\n",
    "\n",
    "from sklearn.model_selection  import train_test_split\n",
    "\n",
    "from scipy import sparse\n",
    "from scipy.sparse import csr_matrix, hstack, vstack\n",
    "warnings.filterwarnings('ignore')"
   ]
  },
  {
   "cell_type": "code",
   "execution_count": null,
   "metadata": {
    "ExecuteTime": {
     "end_time": "2019-05-30T01:17:25.632169Z",
     "start_time": "2019-05-30T01:17:15.859805Z"
    }
   },
   "outputs": [],
   "source": [
    "age_test = pd.read_csv(\"../data/age_test.csv\", header = None)\n",
    "age_train = pd.read_csv(\"../data/age_train.csv\", header = None)"
   ]
  },
  {
   "cell_type": "code",
   "execution_count": null,
   "metadata": {},
   "outputs": [],
   "source": [
    "trainData = sparse.load_npz('../trainTestData/trainData13100.npz')\n",
    "gc.collect()"
   ]
  },
  {
   "cell_type": "code",
   "execution_count": null,
   "metadata": {
    "ExecuteTime": {
     "start_time": "2019-05-30T01:18:30.276Z"
    },
    "scrolled": true
   },
   "outputs": [],
   "source": [
    "k_fold = [[0, int(trainData.shape[0]*0.2)],\n",
    "          [int(trainData.shape[0]*0.2), int(trainData.shape[0]*0.4)], \n",
    "          [int(trainData.shape[0]*0.4), int(trainData.shape[0]*0.6)],\n",
    "          [int(trainData.shape[0]*0.6), int(trainData.shape[0]*0.8)],\n",
    "          [int(trainData.shape[0]*0.8), int(trainData.shape[0])]]\n",
    "for k in range(2, 3):\n",
    "    xg_train = xgb.DMatrix(vstack((trainData[:k_fold[k][0]], trainData[k_fold[k][1]:]), format='csr'), \n",
    "                           label=np.hstack((age_train.iloc[:k_fold[k][0], 1].values, age_train.iloc[k_fold[k][1]:, 1].values)))\n",
    "    xg_val = xgb.DMatrix(trainData[k_fold[k][0]:k_fold[k][1]],\n",
    "                         label=age_train.iloc[k_fold[k][0]:k_fold[k][1], 1].values)\n",
    "    param = {}\n",
    "    #GPU\n",
    "    param['gpu_id'] = 0\n",
    "    param['n_gpus'] = 1\n",
    "    param['max_bin'] = 255\n",
    "    param['grow_policy'] = 'depthwise'\n",
    "    param['tree_method'] = 'gpu_hist'\n",
    "    #CPU\n",
    "#     param['tree_method'] = 'auto'\n",
    "\n",
    "    param['eta'] = 0.01\n",
    "#     param['min_child_weight'] = 0.8\n",
    "    param['subsample'] = 0.8\n",
    "\n",
    "#     param['lambda'] = 0.6\n",
    "    param['gamma'] = 0.2\n",
    "    param['max_depth'] = 9\n",
    "    param['silent'] = 1\n",
    "    param['nthread'] = 48\n",
    "    # param['top_k'] = 1500\n",
    "    # param['scale_pos_weight'] = 9\n",
    "#     param['missing'] = -1\n",
    "\n",
    "    param['num_class'] = 7\n",
    "    param['objective'] = 'multi:softprob'\n",
    "    watchlist = [(xg_train, 'train'), (xg_val, 'val')]\n",
    "    num_round = 50000\n",
    "    \n",
    "    bst = xgb.train(param, xg_train, num_round, watchlist, early_stopping_rounds=500)\n",
    "    bst.save_model('../model/xgb_13100_'+str(k)+'.model')\n",
    "    del bst, xg_train, xg_val\n",
    "    gc.collect()"
   ]
  },
  {
   "cell_type": "markdown",
   "metadata": {},
   "source": [
    "# stacking Train数据"
   ]
  },
  {
   "cell_type": "code",
   "execution_count": null,
   "metadata": {},
   "outputs": [],
   "source": [
    "k_fold = [[0, int(trainData.shape[0]*0.2)],\n",
    "          [int(trainData.shape[0]*0.2), int(trainData.shape[0]*0.4)], \n",
    "          [int(trainData.shape[0]*0.4), int(trainData.shape[0]*0.6)],\n",
    "          [int(trainData.shape[0]*0.6), int(trainData.shape[0]*0.8)],\n",
    "          [int(trainData.shape[0]*0.8), int(trainData.shape[0])]]"
   ]
  },
  {
   "cell_type": "code",
   "execution_count": null,
   "metadata": {},
   "outputs": [],
   "source": [
    "train_stacking_predict = np.zeros((trainData.shape[0],7))\n",
    "for k in tqdm(range(5), desc='k-flod loop'):\n",
    "    bst = xgb.Booster()\n",
    "    bst.load_model('../model/xgb_13100_'+str(k)+'.model')\n",
    "    \n",
    "    xg_val = xgb.DMatrix(trainData[k_fold[k][0]:k_fold[k][1]])\n",
    "    train_stacking_predict[k_fold[k][0]:k_fold[k][1]] =  bst.predict(xg_val)\n",
    "    del xg_val, bst\n",
    "    gc.collect()"
   ]
  },
  {
   "cell_type": "code",
   "execution_count": null,
   "metadata": {},
   "outputs": [],
   "source": [
    "np.savetxt('../processed/xgboost_val_13100.txt', train_stacking_predict, fmt='%s', delimiter=',', newline='\\n')"
   ]
  },
  {
   "cell_type": "code",
   "execution_count": null,
   "metadata": {},
   "outputs": [],
   "source": [
    "train_stacking_predict.shape"
   ]
  },
  {
   "cell_type": "markdown",
   "metadata": {},
   "source": [
    "# 测试"
   ]
  },
  {
   "cell_type": "code",
   "execution_count": null,
   "metadata": {},
   "outputs": [],
   "source": [
    "testData = sparse.load_npz('../trainTestData/testData13100.npz')"
   ]
  },
  {
   "cell_type": "code",
   "execution_count": null,
   "metadata": {},
   "outputs": [],
   "source": [
    "pred_prob = np.zeros((testData.shape[0],7))\n",
    "for k in tqdm(range(5), desc='k-flod loop'):\n",
    "    bst = xgb.Booster()\n",
    "    bst.load_model('../model/xgb_13100_'+str(k)+'.model')\n",
    "    \n",
    "    xg_test = xgb.DMatrix(testData)\n",
    "    pred_prob +=  bst.predict(xg_test)\n",
    "    del xg_test"
   ]
  },
  {
   "cell_type": "code",
   "execution_count": null,
   "metadata": {},
   "outputs": [],
   "source": [
    "pred_prob = pred_prob / 5"
   ]
  },
  {
   "cell_type": "code",
   "execution_count": null,
   "metadata": {},
   "outputs": [],
   "source": [
    "np.savetxt('../processed/xgboost_test_13100.txt', pred_prob, fmt='%s', delimiter=',', newline='\\n')"
   ]
  },
  {
   "cell_type": "code",
   "execution_count": null,
   "metadata": {},
   "outputs": [],
   "source": []
  }
 ],
 "metadata": {
  "kernelspec": {
   "display_name": "diagnosis",
   "language": "python",
   "name": "diagnosis"
  },
  "language_info": {
   "codemirror_mode": {
    "name": "ipython",
    "version": 3
   },
   "file_extension": ".py",
   "mimetype": "text/x-python",
   "name": "python",
   "nbconvert_exporter": "python",
   "pygments_lexer": "ipython3",
   "version": "3.7.1"
  },
  "toc": {
   "base_numbering": 1,
   "nav_menu": {
    "height": "128px",
    "width": "186px"
   },
   "number_sections": true,
   "sideBar": true,
   "skip_h1_title": false,
   "title_cell": "Table of Contents",
   "title_sidebar": "Contents",
   "toc_cell": false,
   "toc_position": {},
   "toc_section_display": true,
   "toc_window_display": false
  },
  "varInspector": {
   "cols": {
    "lenName": 16,
    "lenType": 16,
    "lenVar": 40
   },
   "kernels_config": {
    "python": {
     "delete_cmd_postfix": "",
     "delete_cmd_prefix": "del ",
     "library": "var_list.py",
     "varRefreshCmd": "print(var_dic_list())"
    },
    "r": {
     "delete_cmd_postfix": ") ",
     "delete_cmd_prefix": "rm(",
     "library": "var_list.r",
     "varRefreshCmd": "cat(var_dic_list()) "
    }
   },
   "types_to_exclude": [
    "module",
    "function",
    "builtin_function_or_method",
    "instance",
    "_Feature"
   ],
   "window_display": false
  }
 },
 "nbformat": 4,
 "nbformat_minor": 2
}
