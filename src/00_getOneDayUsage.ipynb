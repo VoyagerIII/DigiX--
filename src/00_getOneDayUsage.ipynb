{
 "cells": [
  {
   "cell_type": "markdown",
   "metadata": {},
   "source": [
    "# 从Usage中提取\"周一、周三、周六\"三天的信息，保存在本地"
   ]
  },
  {
   "cell_type": "code",
   "execution_count": 1,
   "metadata": {},
   "outputs": [],
   "source": [
    "import numpy as np\n",
    "import pandas as pd\n",
    "from tqdm import tqdm\n",
    "import printTime as pt\n",
    "import gc"
   ]
  },
  {
   "cell_type": "code",
   "execution_count": 2,
   "metadata": {},
   "outputs": [],
   "source": [
    "chunks = pd.read_csv(r'../data/user_app_usage.csv',header=None,chunksize=100000000)"
   ]
  },
  {
   "cell_type": "markdown",
   "metadata": {},
   "source": [
    "## 提取三天数据"
   ]
  },
  {
   "cell_type": "code",
   "execution_count": 3,
   "metadata": {},
   "outputs": [
    {
     "name": "stdout",
     "output_type": "stream",
     "text": [
      "2019-08-21 10:43:35\n"
     ]
    }
   ],
   "source": [
    "pt.printTime()\n",
    "chooseMonth1 = 3\n",
    "chooseDay1 = 4\n",
    "filename1 = r'../data/oneDayUsage/2019-03-04.csv'\n",
    "\n",
    "chooseMonth2 = 3\n",
    "chooseDay2 = 6\n",
    "filename2 = r'../data/oneDayUsage/2019-03-06.csv'\n",
    "\n",
    "chooseMonth3 = 3\n",
    "chooseDay3 = 2\n",
    "filename3 = r'../data/oneDayUsage/2019-03-02.csv'"
   ]
  },
  {
   "cell_type": "code",
   "execution_count": 4,
   "metadata": {},
   "outputs": [
    {
     "name": "stderr",
     "output_type": "stream",
     "text": [
      "100%|██████████| 100000000/100000000 [05:01<00:00, 331312.13it/s]\n",
      "100%|██████████| 100000000/100000000 [03:49<00:00, 435343.60it/s]\n",
      "100%|██████████| 100000000/100000000 [04:19<00:00, 385091.46it/s]\n",
      "100%|██████████| 100000000/100000000 [06:50<00:00, 243466.85it/s]\n",
      "100%|██████████| 100000000/100000000 [04:50<00:00, 344776.76it/s]\n",
      "100%|██████████| 100000000/100000000 [03:46<00:00, 440971.07it/s]\n",
      "100%|██████████| 51007719/51007719 [02:00<00:00, 422509.26it/s]\n"
     ]
    },
    {
     "name": "stdout",
     "output_type": "stream",
     "text": [
      "2019-08-21 11:33:01\n"
     ]
    }
   ],
   "source": [
    "one_day,two_day,three_day = [], [], []\n",
    "for chunk in chunks:\n",
    "    for user in tqdm(chunk.values):\n",
    "        stri = user[4].split('-')\n",
    "        if int(stri[1])==chooseMonth1 and int(stri[2])==chooseDay1:\n",
    "            one_day.append(user)\n",
    "        if int(stri[1])==chooseMonth2 and int(stri[2])==chooseDay2:\n",
    "            two_day.append(user)\n",
    "        if int(stri[1])==chooseMonth3 and int(stri[2])==chooseDay3:\n",
    "            three_day.append(user)\n",
    "pt.printTime()"
   ]
  },
  {
   "cell_type": "code",
   "execution_count": 5,
   "metadata": {},
   "outputs": [
    {
     "name": "stdout",
     "output_type": "stream",
     "text": [
      "2019-08-21 11:33:01\n",
      "2019-08-21 13:38:46\n"
     ]
    }
   ],
   "source": [
    "pt.printTime()\n",
    "one_day = pd.DataFrame(one_day)\n",
    "one_day.to_csv(filename1,header=None,index=False)\n",
    "del one_day\n",
    "two_day = pd.DataFrame(two_day)\n",
    "two_day.to_csv(filename2,header=None,index=False)\n",
    "del two_day\n",
    "three_day = pd.DataFrame(three_day)\n",
    "three_day.to_csv(filename3,header=None,index=False)\n",
    "# del three_day\n",
    "gc.collect()\n",
    "pt.printTime()"
   ]
  },
  {
   "cell_type": "code",
   "execution_count": null,
   "metadata": {},
   "outputs": [],
   "source": []
  }
 ],
 "metadata": {
  "kernelspec": {
   "display_name": "Python(fastai)",
   "language": "python",
   "name": "fastai"
  },
  "language_info": {
   "codemirror_mode": {
    "name": "ipython",
    "version": 3
   },
   "file_extension": ".py",
   "mimetype": "text/x-python",
   "name": "python",
   "nbconvert_exporter": "python",
   "pygments_lexer": "ipython3",
   "version": "3.6.6"
  }
 },
 "nbformat": 4,
 "nbformat_minor": 2
}
