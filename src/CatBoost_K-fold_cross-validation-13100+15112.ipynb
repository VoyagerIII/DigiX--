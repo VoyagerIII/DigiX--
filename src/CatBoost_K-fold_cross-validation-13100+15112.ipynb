{
 "cells": [
  {
   "cell_type": "markdown",
   "metadata": {},
   "source": [
    "# 用户人口属性预测\n",
    "手机用户的人口属性（如性别、年龄、常驻地等）数据一方面可以被用于个性化推荐服务，提升用户体验，另一方面可以用于手机用户群画像分析，帮助厂商了解产品的人群定位，优化产品设计。"
   ]
  },
  {
   "cell_type": "code",
   "execution_count": 1,
   "metadata": {
    "ExecuteTime": {
     "end_time": "2019-05-30T01:17:15.198374Z",
     "start_time": "2019-05-30T01:17:15.193251Z"
    }
   },
   "outputs": [],
   "source": [
    "###########################\n",
    "#   -*- coding: utf-8 -*- #\n",
    "# PHM_data_challenge_2019 #\n",
    "#     Author: Huet Zhu    #\n",
    "#       Date:2019.5       #\n",
    "#    All Rights Reserved  #\n",
    "###########################\n",
    "\n",
    "# # 基于机器学习的飞控系统故障诊断方案设计\n",
    "from __future__ import division\n",
    "\n",
    "import numpy as np\n",
    "from catboost import CatBoostClassifier, Pool\n",
    "import pickle\n",
    "import pandas as pd\n",
    "\n",
    "import matplotlib.pyplot as plt\n",
    "import matplotlib\n",
    "\n",
    "from sklearn.tree import DecisionTreeRegressor  \n",
    "from sklearn.ensemble import RandomForestClassifier\n",
    "from sklearn.model_selection  import train_test_split\n",
    "from sklearn.model_selection import StratifiedKFold\n",
    "import numpy as np  \n",
    "\n",
    "from tqdm import tqdm\n",
    "\n",
    "import gc\n",
    "\n",
    "from scipy import sparse\n",
    "from scipy.sparse import csr_matrix, hstack, vstack\n",
    "\n",
    "import warnings\n",
    "import random\n",
    "warnings.filterwarnings('ignore')"
   ]
  },
  {
   "cell_type": "code",
   "execution_count": 2,
   "metadata": {
    "ExecuteTime": {
     "end_time": "2019-05-30T01:17:25.632169Z",
     "start_time": "2019-05-30T01:17:15.859805Z"
    }
   },
   "outputs": [],
   "source": [
    "age_test = pd.read_csv(\"../data/age_test.csv\", header = None)\n",
    "age_train = pd.read_csv(\"../data/age_train.csv\", header = None)"
   ]
  },
  {
   "cell_type": "code",
   "execution_count": 4,
   "metadata": {},
   "outputs": [
    {
     "data": {
      "text/plain": [
       "(2010000, 28212)"
      ]
     },
     "execution_count": 4,
     "metadata": {},
     "output_type": "execute_result"
    }
   ],
   "source": [
    "csr_trainData = hstack((sparse.load_npz('../trainTestData/trainData13100.npz'), sparse.load_npz('../trainTestData/trainData15112.npz')), format='csr')\n",
    "csr_trainData.shape"
   ]
  },
  {
   "cell_type": "code",
   "execution_count": 5,
   "metadata": {},
   "outputs": [
    {
     "data": {
      "text/plain": [
       "(2010000, 28212)"
      ]
     },
     "execution_count": 5,
     "metadata": {},
     "output_type": "execute_result"
    }
   ],
   "source": [
    "csr_trainData.shape"
   ]
  },
  {
   "cell_type": "code",
   "execution_count": null,
   "metadata": {},
   "outputs": [],
   "source": [
    "# trainData = pd.DataFrame(csr_trainData.toarray(), dtype = np.float16)\n",
    "trainData = csr_trainData.toarray()\n",
    "label = age_train.iloc[:, 1].values\n",
    "del csr_trainData\n",
    "gc.collect()"
   ]
  },
  {
   "cell_type": "code",
   "execution_count": null,
   "metadata": {},
   "outputs": [],
   "source": [
    "skf = StratifiedKFold(n_splits=5, random_state=812, shuffle=True)"
   ]
  },
  {
   "cell_type": "code",
   "execution_count": null,
   "metadata": {
    "ExecuteTime": {
     "start_time": "2019-05-30T01:18:30.276Z"
    },
    "scrolled": true
   },
   "outputs": [],
   "source": [
    "for k, (train_index, test_index) in enumerate(skf.split(trainData, label)):\n",
    "    # Initialize CatBoostClassifier\n",
    "    model = CatBoostClassifier(iterations=500000,\n",
    "                               task_type = \"GPU\",\n",
    "                               learning_rate=0.01,\n",
    "                               depth=7,\n",
    "                               verbose=20,\n",
    "                               early_stopping_rounds = 500,\n",
    "                               loss_function='MultiClass',\n",
    "                               custom_metric=['MultiClass',\n",
    "                                              'Accuracy'])\n",
    "    print(k, 'Fit model')\n",
    "\n",
    "    model.fit(trainData[train_index],\n",
    "              y=label[train_index],\n",
    "              eval_set = (trainData[test_index], label[test_index]),\n",
    "              plot=True)\n",
    "    gc.collect()\n",
    "    print(model.get_best_score())\n",
    "    model.save_model('../model/catboost_28212_'+str(k)+'.model', \n",
    "                       format=\"cbm\", \n",
    "                       export_parameters=None,\n",
    "                       pool=None)\n",
    "    del model\n",
    "    gc.collect()"
   ]
  },
  {
   "cell_type": "markdown",
   "metadata": {},
   "source": [
    "# stacking数据处理准备"
   ]
  },
  {
   "cell_type": "code",
   "execution_count": null,
   "metadata": {},
   "outputs": [],
   "source": [
    "k_fold = [[0, int(trainData.shape[0]*0.2)],\n",
    "          [int(trainData.shape[0]*0.2), int(trainData.shape[0]*0.4)], \n",
    "          [int(trainData.shape[0]*0.4), int(trainData.shape[0]*0.6)],\n",
    "          [int(trainData.shape[0]*0.6), int(trainData.shape[0]*0.8)],\n",
    "          [int(trainData.shape[0]*0.8), int(trainData.shape[0])]]\n",
    "train_index = np.arange(trainData.shape[0])"
   ]
  },
  {
   "cell_type": "code",
   "execution_count": null,
   "metadata": {},
   "outputs": [],
   "source": [
    "val_prob = np.zeros((trainData.shape[0], 6))\n",
    "for k in tqdm(range(5)):\n",
    "    model = CatBoostClassifier()\n",
    "    model.load_model('../model/catboost_28212_'+str(k)+'.model', format='cbm')\n",
    "    val_prob[k_fold[k][0]:k_fold[k][1]] = model.predict_proba(trainData[k_fold[k][0]:k_fold[k][1]])\n",
    "    del model\n",
    "    gc.collect()"
   ]
  },
  {
   "cell_type": "code",
   "execution_count": null,
   "metadata": {},
   "outputs": [],
   "source": [
    "np.sum(val_prob), trainData.shape[0]"
   ]
  },
  {
   "cell_type": "code",
   "execution_count": null,
   "metadata": {},
   "outputs": [],
   "source": [
    "train_stacking_predict = val_prob"
   ]
  },
  {
   "cell_type": "code",
   "execution_count": null,
   "metadata": {},
   "outputs": [],
   "source": [
    "np.sum(train_stacking_predict)"
   ]
  },
  {
   "cell_type": "code",
   "execution_count": null,
   "metadata": {},
   "outputs": [],
   "source": [
    "np.savetxt('../processed/stacking/catboost_val_28212.txt', train_stacking_predict, fmt='%s', delimiter=',', newline='\\n')"
   ]
  },
  {
   "cell_type": "markdown",
   "metadata": {},
   "source": [
    "# 测试"
   ]
  },
  {
   "cell_type": "code",
   "execution_count": null,
   "metadata": {},
   "outputs": [],
   "source": [
    "csr_testData = hstack((sparse.load_npz('../trainTestData/testData13100.npz'), sparse.load_npz('../trainTestData/testData15112.npz')), format='csr')\n",
    "csr_testData.shape"
   ]
  },
  {
   "cell_type": "code",
   "execution_count": null,
   "metadata": {
    "scrolled": true
   },
   "outputs": [],
   "source": [
    "testData = csr_testData.toarray()\n",
    "del csr_testData\n",
    "gc.collect()\n",
    "testData.shape"
   ]
  },
  {
   "cell_type": "code",
   "execution_count": null,
   "metadata": {},
   "outputs": [],
   "source": [
    "test_prob = np.zeros((testData.shape[0], 6))\n",
    "for k in tqdm(range(2)):\n",
    "    model = CatBoostClassifier()\n",
    "    model.load_model('../model/catboost_28212_'+str(k)+'.model', format='cbm')\n",
    "    test_prob += model.predict_proba(testData, thread_count=40, verbose=True)\n",
    "    del model\n",
    "    gc.collect()"
   ]
  },
  {
   "cell_type": "code",
   "execution_count": null,
   "metadata": {},
   "outputs": [],
   "source": [
    "np.sum(test_prob)/2"
   ]
  },
  {
   "cell_type": "code",
   "execution_count": null,
   "metadata": {},
   "outputs": [],
   "source": [
    "test_stacking_predict = test_prob / 2"
   ]
  },
  {
   "cell_type": "code",
   "execution_count": null,
   "metadata": {},
   "outputs": [],
   "source": [
    "np.savetxt('../processed/catboost_test_28212.txt', test_stacking_predict, fmt='%s', delimiter=',', newline='\\n')"
   ]
  }
 ],
 "metadata": {
  "kernelspec": {
   "display_name": "diagnosis",
   "language": "python",
   "name": "diagnosis"
  },
  "language_info": {
   "codemirror_mode": {
    "name": "ipython",
    "version": 3
   },
   "file_extension": ".py",
   "mimetype": "text/x-python",
   "name": "python",
   "nbconvert_exporter": "python",
   "pygments_lexer": "ipython3",
   "version": "3.7.1"
  },
  "toc": {
   "base_numbering": 1,
   "nav_menu": {
    "height": "128px",
    "width": "186px"
   },
   "number_sections": true,
   "sideBar": true,
   "skip_h1_title": false,
   "title_cell": "Table of Contents",
   "title_sidebar": "Contents",
   "toc_cell": false,
   "toc_position": {},
   "toc_section_display": true,
   "toc_window_display": false
  },
  "varInspector": {
   "cols": {
    "lenName": 16,
    "lenType": 16,
    "lenVar": 40
   },
   "kernels_config": {
    "python": {
     "delete_cmd_postfix": "",
     "delete_cmd_prefix": "del ",
     "library": "var_list.py",
     "varRefreshCmd": "print(var_dic_list())"
    },
    "r": {
     "delete_cmd_postfix": ") ",
     "delete_cmd_prefix": "rm(",
     "library": "var_list.r",
     "varRefreshCmd": "cat(var_dic_list()) "
    }
   },
   "types_to_exclude": [
    "module",
    "function",
    "builtin_function_or_method",
    "instance",
    "_Feature"
   ],
   "window_display": false
  }
 },
 "nbformat": 4,
 "nbformat_minor": 2
}
