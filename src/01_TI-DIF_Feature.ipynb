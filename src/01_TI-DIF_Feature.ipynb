{
 "cells": [
  {
   "cell_type": "code",
   "execution_count": 1,
   "metadata": {},
   "outputs": [],
   "source": [
    "import pandas as pd\n",
    "import numpy as np\n",
    "from sklearn import preprocessing\n",
    "from sklearn.impute import SimpleImputer\n",
    "from scipy import sparse\n",
    "from tqdm import tqdm\n",
    "import matplotlib.pyplot as plt\n",
    "import gc\n",
    "import printTime as pt"
   ]
  },
  {
   "cell_type": "code",
   "execution_count": 2,
   "metadata": {},
   "outputs": [
    {
     "name": "stdout",
     "output_type": "stream",
     "text": [
      "2019-08-21 07:44:08\n"
     ]
    }
   ],
   "source": [
    "pt.printTime()"
   ]
  },
  {
   "cell_type": "markdown",
   "metadata": {},
   "source": [
    "# 计算usage中train和test共同拥有的app"
   ]
  },
  {
   "cell_type": "code",
   "execution_count": null,
   "metadata": {},
   "outputs": [],
   "source": [
    "usage = pd.read_csv(r'../data/user_app_usage.csv',header=None,usecols=[0,1])\n",
    "pt.printTime()\n",
    "\n",
    "age_train = pd.read_csv(r'../data/age_train.csv',header=None)\n",
    "age_test =pd.read_csv(r'../data/age_test.csv',header=None)\n",
    "\n",
    "usage_train = pd.merge(age_train,usage,how='inner',left_on=0,right_on=0)\n",
    "usage_test = pd.merge(age_test,usage,how='inner',left_on=0,right_on=0)\n",
    "pt.printTime()\n",
    "\n",
    "app_train = usage_train.drop_duplicates(subset=['1_y'])['1_y']\n",
    "app_test = usage_test.drop_duplicates(subset=[1])[1]\n",
    "pt.printTime()\n",
    "\n",
    "del usage_train,usage_test\n",
    "gc.collect()\n",
    "\n",
    "commonAPP = list(set(app_train.values).intersection(set(app_test.values)))\n",
    "\n",
    "del app_train,app_test\n",
    "gc.collect()\n",
    "\n",
    "common_app = pd.DataFrame(commonAPP)\n",
    "\n",
    "common_app.to_csv(r'../processed/train_test_commonAPP.csv',header=None,index=False)\n",
    "\n",
    "del common_app\n",
    "gc.collect()\n",
    "\n",
    "bool_index = usage[1].isin(commonAPP)\n",
    "usage = pd.DataFrame(usage[bool_index])\n",
    "\n",
    "# usage.to_csv(r'../processed/commonAPP_usage.csv',header=None,index=False)\n",
    "pt.printTime()"
   ]
  },
  {
   "cell_type": "markdown",
   "metadata": {},
   "source": [
    "# usage词频——数据准备"
   ]
  },
  {
   "cell_type": "code",
   "execution_count": null,
   "metadata": {},
   "outputs": [],
   "source": [
    "# usage = pd.read_csv(r'../processed/commonAPP_usage.csv',header=None)\n",
    "print(usage.shape)\n",
    "print(usage.head())"
   ]
  },
  {
   "cell_type": "code",
   "execution_count": null,
   "metadata": {},
   "outputs": [],
   "source": [
    "user_num = usage[0].value_counts()"
   ]
  },
  {
   "cell_type": "code",
   "execution_count": null,
   "metadata": {},
   "outputs": [],
   "source": [
    "fig=plt.figure(figsize=(20,4))\n",
    "plt.plot(range(len(user_num)),user_num)\n",
    "plt.show()"
   ]
  },
  {
   "cell_type": "code",
   "execution_count": null,
   "metadata": {},
   "outputs": [],
   "source": [
    "gc.collect()"
   ]
  },
  {
   "cell_type": "code",
   "execution_count": null,
   "metadata": {},
   "outputs": [],
   "source": [
    "# usage = usage.values\n",
    "first_flag = True\n",
    "user = [] #[uId,app_string]\n",
    "usage_str = []\n",
    "app_str = ''\n",
    "usage = usage.values\n",
    "for i in tqdm(range(usage.shape[0])):\n",
    "    if first_flag == True:\n",
    "        user.append(usage[i][0])\n",
    "        app_str = usage[i][1]\n",
    "        first_flag = False\n",
    "    else:\n",
    "        if usage[i][0] == user[0]:\n",
    "            app_str = app_str + ' ' + usage[i][1]\n",
    "        else:\n",
    "            usage_str.append([user[0],app_str])\n",
    "            user = []\n",
    "            user.append(usage[i][0])\n",
    "            app_str = usage[i][1]\n",
    "    if i == usage.shape[0]-1:\n",
    "        usage_str.append([user[0],app_str])"
   ]
  },
  {
   "cell_type": "code",
   "execution_count": null,
   "metadata": {},
   "outputs": [],
   "source": [
    "pt.printTime()\n",
    "usage_str = pd.DataFrame(usage_str)\n",
    "print(usage_str.shape)\n",
    "print(usage_str.head())\n",
    "pt.printTime()"
   ]
  },
  {
   "cell_type": "code",
   "execution_count": null,
   "metadata": {},
   "outputs": [],
   "source": [
    "pt.printTime()\n",
    "usage_str.to_csv(r'../processed/usage_str.csv',header=None,index=False)\n",
    "pt.printTime()"
   ]
  },
  {
   "cell_type": "code",
   "execution_count": null,
   "metadata": {},
   "outputs": [],
   "source": [
    "del usage\n",
    "gc.collect()"
   ]
  },
  {
   "cell_type": "markdown",
   "metadata": {},
   "source": [
    "# 特征生成"
   ]
  },
  {
   "cell_type": "code",
   "execution_count": 12,
   "metadata": {},
   "outputs": [
    {
     "name": "stdout",
     "output_type": "stream",
     "text": [
      "(1992583, 2)\n",
      "         0                                                  1\n",
      "0  1000364  a00289850 a00287085 a00289826 a00287085 a00278...\n",
      "1  1000387  a00187480 a00289791 a00234796 a00187480 a00442...\n",
      "2  1000872  a00137119 a00310778 a00310778 a00289791 a00289...\n",
      "3  1000951  a0048332 a00289826 a00348591 a00248909 a002489...\n",
      "4  1001091  a00292472 a00348507 a00443258 a00289826 a00277...\n"
     ]
    }
   ],
   "source": [
    "usage_str = pd.read_csv(r'../processed/usage_str.csv',header=None)\n",
    "print(usage_str.shape)\n",
    "print(usage_str.head())"
   ]
  },
  {
   "cell_type": "code",
   "execution_count": 13,
   "metadata": {},
   "outputs": [
    {
     "data": {
      "text/plain": [
       "(488124,)"
      ]
     },
     "execution_count": 13,
     "metadata": {},
     "output_type": "execute_result"
    }
   ],
   "source": [
    "important_app = np.loadtxt('../processed/important_app_usage.txt', dtype=np.str, delimiter=',')\n",
    "important_app.shape"
   ]
  },
  {
   "cell_type": "code",
   "execution_count": 14,
   "metadata": {},
   "outputs": [],
   "source": [
    "commonAPP = pd.read_csv(r'../processed/train_test_commonAPP.csv',header=None)\n",
    "commonAPP = set(commonAPP[0].values)"
   ]
  },
  {
   "cell_type": "code",
   "execution_count": 15,
   "metadata": {},
   "outputs": [
    {
     "name": "stderr",
     "output_type": "stream",
     "text": [
      "100%|██████████| 488124/488124 [00:00<00:00, 971569.33it/s]\n"
     ]
    }
   ],
   "source": [
    "important_app_list = []\n",
    "for i in tqdm(range(len(important_app))):\n",
    "    if important_app[i] in commonAPP:\n",
    "        important_app_list.append(important_app[i])"
   ]
  },
  {
   "cell_type": "code",
   "execution_count": 16,
   "metadata": {},
   "outputs": [
    {
     "name": "stderr",
     "output_type": "stream",
     "text": [
      "100%|██████████| 10000/10000 [00:00<00:00, 1164987.36it/s]\n"
     ]
    }
   ],
   "source": [
    "voca = {}\n",
    "num = 10000\n",
    "for i in tqdm(range(num)):\n",
    "    voca[important_app_list[i]] = i"
   ]
  },
  {
   "cell_type": "code",
   "execution_count": 17,
   "metadata": {},
   "outputs": [],
   "source": [
    "age_train = pd.read_csv(r'../data/age_train.csv',header=None,usecols=[0])\n",
    "age_test = pd.read_csv(r'../data/age_test.csv',header=None)"
   ]
  },
  {
   "cell_type": "code",
   "execution_count": 18,
   "metadata": {},
   "outputs": [
    {
     "name": "stdout",
     "output_type": "stream",
     "text": [
      "(502500, 2)\n",
      "         0                                                  1\n",
      "0  1000002  a00287085 a00170443 a00278858 a00287085 a00928...\n",
      "1  1000003  a00289826 a00289791 a00263057 a00178623 a00278...\n",
      "2  1000004  a00333490 a00336224 a00287085 a00272228 a00281...\n",
      "3  1000005                                                NaN\n",
      "4  1000006                                                NaN\n",
      "5  1000007  a00287085 a00180973 a0092898 a00263531 a004856...\n",
      "6  1000008  a0021880 a00263057 a0017615 a009932 a00141414 ...\n",
      "7  1000009  a0036392 a0071866 a0027551 a00289791 a00170432...\n",
      "8  1000010                                                NaN\n",
      "9  1000012  a00289826 a0048562 a00289826 a00157220 a002898...\n"
     ]
    }
   ],
   "source": [
    "test = pd.merge(age_test,usage_str,how='inner',on=0)\n",
    "test = pd.merge(age_test,test,how='outer',on=0)\n",
    "print(test.shape)\n",
    "print(test.head(10))"
   ]
  },
  {
   "cell_type": "code",
   "execution_count": 19,
   "metadata": {},
   "outputs": [
    {
     "name": "stdout",
     "output_type": "stream",
     "text": [
      "(2010000, 2)\n",
      "         0                                                  1\n",
      "0  1000001  a00867 a00289791 a00289826 a00289791 a0011560 ...\n",
      "1  1000011                                                NaN\n",
      "2  1000015  a0032847 a00170432 a00170432 a00247519 a001704...\n",
      "3  1000019                                                NaN\n",
      "4  1000023  a00278905 a00289791 a00290038 a00289791 a00289...\n",
      "5  1000025  a00290027 a00102782 a00445313 a00289791 a00144...\n",
      "6  1000029  a0022093 a00289659 a00290037 a00287085 a002897...\n",
      "7  1000035  a00289850 a00157201 a00289791 a00157201 a00287...\n",
      "8  1000037  a00289866 a00289791 a00290037 a00289600 a00218...\n",
      "9  1000038  a00103666 a00365869 a00336224 a00336239 a00287...\n"
     ]
    }
   ],
   "source": [
    "train = pd.merge(age_train,usage_str,how='inner',on=0)\n",
    "train = pd.merge(age_train,train,how='outer',on=0)\n",
    "print(train.shape)\n",
    "print(train.head(10))"
   ]
  },
  {
   "cell_type": "code",
   "execution_count": 20,
   "metadata": {},
   "outputs": [],
   "source": [
    "from sklearn.impute import SimpleImputer"
   ]
  },
  {
   "cell_type": "code",
   "execution_count": 21,
   "metadata": {},
   "outputs": [],
   "source": [
    "imp = SimpleImputer(strategy='constant',fill_value=' ')\n",
    "train = imp.fit_transform(train.values)\n",
    "test = imp.fit_transform(test.values)"
   ]
  },
  {
   "cell_type": "code",
   "execution_count": 22,
   "metadata": {},
   "outputs": [],
   "source": [
    "data = np.vstack((train,test))"
   ]
  },
  {
   "cell_type": "code",
   "execution_count": 23,
   "metadata": {},
   "outputs": [],
   "source": [
    "from sklearn.feature_extraction.text import CountVectorizer, TfidfVectorizer, TfidfTransformer"
   ]
  },
  {
   "cell_type": "code",
   "execution_count": 24,
   "metadata": {},
   "outputs": [],
   "source": [
    "tfidf_vec = TfidfVectorizer(vocabulary=voca) \n",
    "tfidf_matrix = tfidf_vec.fit_transform(data[:,1])"
   ]
  },
  {
   "cell_type": "code",
   "execution_count": 25,
   "metadata": {},
   "outputs": [
    {
     "data": {
      "text/plain": [
       "(2512500, 10000)"
      ]
     },
     "execution_count": 25,
     "metadata": {},
     "output_type": "execute_result"
    }
   ],
   "source": [
    "tfidf_matrix.shape"
   ]
  },
  {
   "cell_type": "code",
   "execution_count": 26,
   "metadata": {},
   "outputs": [],
   "source": [
    "train = tfidf_matrix[:train.shape[0],:]\n",
    "test = tfidf_matrix[train.shape[0]:,:]"
   ]
  },
  {
   "cell_type": "code",
   "execution_count": 27,
   "metadata": {},
   "outputs": [],
   "source": [
    "sparse.save_npz(r'../trainTestData/trainData10000.npz',train)\n",
    "sparse.save_npz(r'../trainTestData/testData10000.npz',test)"
   ]
  },
  {
   "cell_type": "code",
   "execution_count": 28,
   "metadata": {},
   "outputs": [],
   "source": [
    "data = pd.DataFrame(train[:1000,:].toarray())"
   ]
  },
  {
   "cell_type": "code",
   "execution_count": 29,
   "metadata": {},
   "outputs": [
    {
     "name": "stdout",
     "output_type": "stream",
     "text": [
      "       0     1     2         3     4     5         6     7     8     9     \\\n",
      "0  0.179791   0.0   0.0  0.000000   0.0   0.0  0.000000   0.0   0.0   0.0   \n",
      "1  0.000000   0.0   0.0  0.000000   0.0   0.0  0.000000   0.0   0.0   0.0   \n",
      "2  0.090465   0.0   0.0  0.560534   0.0   0.0  0.000000   0.0   0.0   0.0   \n",
      "3  0.000000   0.0   0.0  0.000000   0.0   0.0  0.000000   0.0   0.0   0.0   \n",
      "4  0.023668   0.0   0.0  0.439950   0.0   0.0  0.303903   0.0   0.0   0.0   \n",
      "\n",
      "   ...  9990  9991  9992  9993  9994  9995  9996  9997  9998  9999  \n",
      "0  ...   0.0   0.0   0.0   0.0   0.0   0.0   0.0   0.0   0.0   0.0  \n",
      "1  ...   0.0   0.0   0.0   0.0   0.0   0.0   0.0   0.0   0.0   0.0  \n",
      "2  ...   0.0   0.0   0.0   0.0   0.0   0.0   0.0   0.0   0.0   0.0  \n",
      "3  ...   0.0   0.0   0.0   0.0   0.0   0.0   0.0   0.0   0.0   0.0  \n",
      "4  ...   0.0   0.0   0.0   0.0   0.0   0.0   0.0   0.0   0.0   0.0  \n",
      "\n",
      "[5 rows x 10000 columns]\n",
      "2019-08-21 01:08:35\n"
     ]
    }
   ],
   "source": [
    "print(data.head())\n",
    "pt.printTime()"
   ]
  },
  {
   "cell_type": "code",
   "execution_count": null,
   "metadata": {},
   "outputs": [],
   "source": []
  }
 ],
 "metadata": {
  "kernelspec": {
   "display_name": "Python (mask_rcnn)",
   "language": "python",
   "name": "mask_rcnn"
  },
  "language_info": {
   "codemirror_mode": {
    "name": "ipython",
    "version": 3
   },
   "file_extension": ".py",
   "mimetype": "text/x-python",
   "name": "python",
   "nbconvert_exporter": "python",
   "pygments_lexer": "ipython3",
   "version": "3.5.5"
  }
 },
 "nbformat": 4,
 "nbformat_minor": 2
}
