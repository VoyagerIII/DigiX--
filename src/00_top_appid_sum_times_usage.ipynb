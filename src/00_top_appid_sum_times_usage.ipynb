{
 "cells": [
  {
   "cell_type": "code",
   "execution_count": 1,
   "metadata": {
    "ExecuteTime": {
     "end_time": "2019-05-30T01:17:15.198374Z",
     "start_time": "2019-05-30T01:17:15.193251Z"
    }
   },
   "outputs": [],
   "source": [
    "###########################\n",
    "#   -*- coding: utf-8 -*- #\n",
    "# PHM_data_challenge_2019 #\n",
    "#     Author: Huet Zhu    #\n",
    "#       Date:2019.5       #\n",
    "#    All Rights Reserved  #\n",
    "###########################\n",
    "\n",
    "# # 基于机器学习的飞控系统故障诊断方案设计\n",
    "from __future__ import division\n",
    "\n",
    "import numpy as np\n",
    "import xgboost as xgb\n",
    "import pickle\n",
    "import pandas as pd\n",
    "\n",
    "import matplotlib.pyplot as plt\n",
    "import matplotlib\n",
    "\n",
    "from tqdm import tqdm\n",
    "\n",
    "from scipy import sparse\n",
    "from scipy.sparse import csr_matrix, hstack, vstack\n",
    "from sklearn import preprocessing\n",
    "import printTime as pt\n",
    "import gc\n",
    "\n",
    "import warnings\n",
    "import random\n",
    "warnings.filterwarnings('ignore')"
   ]
  },
  {
   "cell_type": "code",
   "execution_count": 2,
   "metadata": {},
   "outputs": [
    {
     "name": "stdout",
     "output_type": "stream",
     "text": [
      "2019-08-21 14:35:20\n"
     ]
    }
   ],
   "source": [
    "pt.printTime()"
   ]
  },
  {
   "cell_type": "code",
   "execution_count": 3,
   "metadata": {
    "ExecuteTime": {
     "end_time": "2019-05-30T01:17:25.632169Z",
     "start_time": "2019-05-30T01:17:15.859805Z"
    }
   },
   "outputs": [],
   "source": [
    "age_test = pd.read_csv(\"../data/age_test.csv\", header = None)\n",
    "age_train = pd.read_csv(\"../data/age_train.csv\", header = None)\n",
    "user_app_usage = pd.read_csv(\"../data/user_app_usage.csv\", nrows=500000, header = None)"
   ]
  },
  {
   "cell_type": "code",
   "execution_count": 4,
   "metadata": {},
   "outputs": [
    {
     "name": "stderr",
     "output_type": "stream",
     "text": [
      "100%|██████████| 500000/500000 [00:00<00:00, 2025376.70it/s]"
     ]
    },
    {
     "name": "stdout",
     "output_type": "stream",
     "text": [
      "2019-08-21 14:35:21\n"
     ]
    },
    {
     "name": "stderr",
     "output_type": "stream",
     "text": [
      "\n"
     ]
    },
    {
     "data": {
      "text/plain": [
       "30"
      ]
     },
     "execution_count": 4,
     "metadata": {},
     "output_type": "execute_result"
    }
   ],
   "source": [
    "# date_dict = {'2019-02-28': 0}\n",
    "# for date in user_app_usage.loc[:, 4]:\n",
    "#     if date not in date_dict:\n",
    "#         date_dict[date] = int(date.split('-')[2])\n",
    "date_dict = {}\n",
    "i = 0\n",
    "for one_day in tqdm(user_app_usage.loc[:, 4]):\n",
    "    if one_day not in date_dict.keys():\n",
    "        date_dict[one_day] = i\n",
    "        i += 1\n",
    "day_num = i\n",
    "pt.printTime()\n",
    "len(date_dict)"
   ]
  },
  {
   "cell_type": "code",
   "execution_count": 5,
   "metadata": {},
   "outputs": [],
   "source": [
    "user_app_usage = pd.read_csv(\"../data/user_app_usage.csv\", header = None)"
   ]
  },
  {
   "cell_type": "markdown",
   "metadata": {},
   "source": [
    "# 查找方差最大的app并依次展开"
   ]
  },
  {
   "cell_type": "code",
   "execution_count": 6,
   "metadata": {},
   "outputs": [
    {
     "data": {
      "text/plain": [
       "(22213813, 5)"
      ]
     },
     "execution_count": 6,
     "metadata": {},
     "output_type": "execute_result"
    }
   ],
   "source": [
    "user_app_usage = user_app_usage.loc[user_app_usage[4] == '2019-03-03', :]\n",
    "user_app_usage.shape"
   ]
  },
  {
   "cell_type": "code",
   "execution_count": 7,
   "metadata": {},
   "outputs": [
    {
     "data": {
      "text/plain": [
       "array([1000001, 1000011, 1000015, ..., 3512498, 3512499, 3512500])"
      ]
     },
     "execution_count": 7,
     "metadata": {},
     "output_type": "execute_result"
    }
   ],
   "source": [
    "age_train[0].values"
   ]
  },
  {
   "cell_type": "code",
   "execution_count": 8,
   "metadata": {},
   "outputs": [
    {
     "data": {
      "image/png": "[encoded data removed]",
      "text/plain": [
       "<Figure size 432x288 with 1 Axes>"
      ]
     },
     "metadata": {
      "needs_background": "light"
     },
     "output_type": "display_data"
    }
   ],
   "source": [
    "app_pd_import = user_app_usage.loc[:, 1].value_counts()\n",
    "app_pd_import.to_csv('../processed/appid_active_count.csv')\n",
    "app_pd_import = pd.read_csv(\"../processed/appid_active_count.csv\", header = None)\n",
    "plt.plot(range(2000), app_pd_import.loc[1000:2999, 1], 'b-o')  # 从下往上画\n",
    "plt.show()"
   ]
  },
  {
   "cell_type": "code",
   "execution_count": 9,
   "metadata": {},
   "outputs": [],
   "source": [
    "important_appid_topN = app_pd_import.loc[:, 0].values\n",
    "age_appId_number_matrix = np.zeros((7, len(important_appid_topN)))"
   ]
  },
  {
   "cell_type": "code",
   "execution_count": 10,
   "metadata": {},
   "outputs": [
    {
     "name": "stdout",
     "output_type": "stream",
     "text": [
      "2019-08-21 14:42:13\n"
     ]
    }
   ],
   "source": [
    "pt.printTime()"
   ]
  },
  {
   "cell_type": "code",
   "execution_count": 11,
   "metadata": {},
   "outputs": [],
   "source": [
    "age_train = age_train.values\n",
    "age_test = age_test.values"
   ]
  },
  {
   "cell_type": "code",
   "execution_count": 12,
   "metadata": {},
   "outputs": [],
   "source": [
    "uid_label_dict = {}\n",
    "for i in range(age_train.shape[0]):\n",
    "    uid_label_dict[age_train[i, 0]] = age_train[i, 1]\n",
    "for i in range(age_test.shape[0]):\n",
    "    uid_label_dict[age_test[i, 0]] = 0"
   ]
  },
  {
   "cell_type": "code",
   "execution_count": 13,
   "metadata": {},
   "outputs": [
    {
     "name": "stdout",
     "output_type": "stream",
     "text": [
      "2019-08-21 14:42:14\n"
     ]
    }
   ],
   "source": [
    "pt.printTime()"
   ]
  },
  {
   "cell_type": "code",
   "execution_count": 14,
   "metadata": {},
   "outputs": [],
   "source": [
    "appid_dict = {}\n",
    "for i in range(len(important_appid_topN)):\n",
    "    appid_dict[important_appid_topN[i]] = i"
   ]
  },
  {
   "cell_type": "code",
   "execution_count": 15,
   "metadata": {},
   "outputs": [
    {
     "data": {
      "text/plain": [
       "array([[1000364, 'a00289850', 731.0, 2.0, '2019-03-03'],\n",
       "       [1000364, 'a00278858', 81.0, 29.0, '2019-03-03'],\n",
       "       [1000364, 'a00289826', 148.0, 12.0, '2019-03-03'],\n",
       "       [1000364, 'a00289791', 1018.0, 41.0, '2019-03-03'],\n",
       "       [1000364, 'a00290027', 662.0, 5.0, '2019-03-03']], dtype=object)"
      ]
     },
     "execution_count": 15,
     "metadata": {},
     "output_type": "execute_result"
    }
   ],
   "source": [
    "user_app_usage = user_app_usage.values\n",
    "user_app_usage[:5]"
   ]
  },
  {
   "cell_type": "code",
   "execution_count": 16,
   "metadata": {},
   "outputs": [
    {
     "name": "stderr",
     "output_type": "stream",
     "text": [
      "100%|██████████| 22213813/22213813 [00:29<00:00, 754809.42it/s]\n"
     ]
    }
   ],
   "source": [
    "for i in tqdm(range(user_app_usage.shape[0])):\n",
    "    age_appId_number_matrix[uid_label_dict[user_app_usage[i, 0]], appid_dict[user_app_usage[i, 1]]] += 1"
   ]
  },
  {
   "cell_type": "code",
   "execution_count": 17,
   "metadata": {},
   "outputs": [],
   "source": [
    "age_appId_number_matrix = np.delete(age_appId_number_matrix, 0, axis = 0)"
   ]
  },
  {
   "cell_type": "code",
   "execution_count": 18,
   "metadata": {},
   "outputs": [
    {
     "data": {
      "text/plain": [
       "(6, 179461)"
      ]
     },
     "execution_count": 18,
     "metadata": {},
     "output_type": "execute_result"
    }
   ],
   "source": [
    "age_appId_number_matrix.shape"
   ]
  },
  {
   "cell_type": "code",
   "execution_count": 19,
   "metadata": {},
   "outputs": [
    {
     "data": {
      "text/plain": [
       "3    600000\n",
       "4    500000\n",
       "2    400000\n",
       "5    300000\n",
       "6    150000\n",
       "1     60000\n",
       "Name: 1, dtype: int64"
      ]
     },
     "execution_count": 19,
     "metadata": {},
     "output_type": "execute_result"
    }
   ],
   "source": [
    "age_test = pd.read_csv(\"../data/age_test.csv\", header = None)\n",
    "age_train = pd.read_csv(\"../data/age_train.csv\", header = None)\n",
    "ageNumber = age_train[1].value_counts()\n",
    "ageNumber"
   ]
  },
  {
   "cell_type": "code",
   "execution_count": 20,
   "metadata": {},
   "outputs": [],
   "source": [
    "age_appId_number_matrix[0] = age_appId_number_matrix[0]/ageNumber[1]\n",
    "age_appId_number_matrix[1] = age_appId_number_matrix[1]/ageNumber[2]\n",
    "age_appId_number_matrix[2] = age_appId_number_matrix[2]/ageNumber[3]\n",
    "age_appId_number_matrix[3] = age_appId_number_matrix[3]/ageNumber[4]\n",
    "age_appId_number_matrix[4] = age_appId_number_matrix[4]/ageNumber[5]\n",
    "age_appId_number_matrix[5] = age_appId_number_matrix[5]/ageNumber[6]\n",
    "age_appId_number_matrix = pd.DataFrame(age_appId_number_matrix,columns=appid_dict.keys())\n",
    "# age_appId_number_matrix.describe()"
   ]
  },
  {
   "cell_type": "code",
   "execution_count": 21,
   "metadata": {},
   "outputs": [],
   "source": [
    "app_stds = age_appId_number_matrix.std()\n",
    "app_stds.sort_values(ascending=False,inplace=True)\n",
    "age_appId_number_matrix = age_appId_number_matrix.reindex(columns=app_stds.keys())"
   ]
  },
  {
   "cell_type": "code",
   "execution_count": 22,
   "metadata": {},
   "outputs": [],
   "source": [
    "# age_appId_number_matrix.describe()"
   ]
  },
  {
   "cell_type": "code",
   "execution_count": 23,
   "metadata": {},
   "outputs": [
    {
     "data": {
      "text/plain": [
       "Index(['a00289826', 'a00292780', 'a00224427', 'a00278905', 'a00292472',\n",
       "       'a00290027', 'a00290015', 'a00274701', 'a00271087', 'a00481059',\n",
       "       ...\n",
       "       'a00314936', 'a00406507', 'a00198232', 'a00259445', 'a00332593',\n",
       "       'a00164847', 'a00484140', 'a00258515', 'a00148241', 'a00327602'],\n",
       "      dtype='object', length=179461)"
      ]
     },
     "execution_count": 23,
     "metadata": {},
     "output_type": "execute_result"
    }
   ],
   "source": [
    "app_keys = age_appId_number_matrix.keys()\n",
    "app_keys"
   ]
  },
  {
   "cell_type": "code",
   "execution_count": 24,
   "metadata": {},
   "outputs": [],
   "source": [
    "np.savetxt('../processed/high_attractive_app_keys.txt',app_keys, fmt='%s', delimiter=',', newline='\\n')"
   ]
  },
  {
   "cell_type": "code",
   "execution_count": 25,
   "metadata": {},
   "outputs": [
    {
     "name": "stdout",
     "output_type": "stream",
     "text": [
      "2019-08-21 14:42:48\n"
     ]
    }
   ],
   "source": [
    "pt.printTime()"
   ]
  },
  {
   "cell_type": "markdown",
   "metadata": {},
   "source": [
    "# 生成5000维APP及其点击次数样本"
   ]
  },
  {
   "cell_type": "code",
   "execution_count": 26,
   "metadata": {},
   "outputs": [],
   "source": [
    "###########################\n",
    "#   -*- coding: utf-8 -*- #\n",
    "# PHM_data_challenge_2019 #\n",
    "#     Author: Huet Zhu    #\n",
    "#       Date:2019.5       #\n",
    "#    All Rights Reserved  #\n",
    "###########################\n",
    "\n",
    "# # 基于机器学习的飞控系统故障诊断方案设计\n",
    "from __future__ import division\n",
    "\n",
    "import numpy as np\n",
    "import xgboost as xgb\n",
    "import pickle\n",
    "import pandas as pd\n",
    "\n",
    "import matplotlib.pyplot as plt\n",
    "import matplotlib\n",
    "\n",
    "from tqdm import tqdm\n",
    "\n",
    "from scipy import sparse\n",
    "from scipy.sparse import csr_matrix, hstack, vstack\n",
    "from sklearn import preprocessing\n",
    "import printTime as pt\n",
    "\n",
    "import warnings\n",
    "import random\n",
    "warnings.filterwarnings('ignore')"
   ]
  },
  {
   "cell_type": "code",
   "execution_count": 27,
   "metadata": {},
   "outputs": [
    {
     "name": "stdout",
     "output_type": "stream",
     "text": [
      "2019-08-21 14:42:48\n"
     ]
    }
   ],
   "source": [
    "pt.printTime()"
   ]
  },
  {
   "cell_type": "code",
   "execution_count": 28,
   "metadata": {},
   "outputs": [],
   "source": [
    "age_test = pd.read_csv(\"../data/age_test.csv\", header = None)\n",
    "age_train = pd.read_csv(\"../data/age_train.csv\", header = None)"
   ]
  },
  {
   "cell_type": "code",
   "execution_count": 29,
   "metadata": {},
   "outputs": [],
   "source": [
    "app_keys = np.loadtxt('../processed/high_attractive_app_keys.txt', dtype=str, delimiter=',')\n",
    "\n",
    "all_users = pd.merge(age_train.drop([1], axis = 1), age_test, on=0, how='outer')\n",
    "all_users = all_users.values\n",
    "uid_index_dict = {}\n",
    "index = 0\n",
    "for uid in all_users:\n",
    "    uid_index_dict[int(uid)] = index \n",
    "    index += 1\n",
    "\n",
    "important_appid_topN = app_keys[:5000]\n",
    "important_appid_topN = important_appid_topN.tolist()\n",
    "\n",
    "add_columns = np.zeros((all_users.shape[0], len(important_appid_topN)))\n",
    "appid_dict = {}\n",
    "for i in range(len(important_appid_topN)):\n",
    "    appid_dict[important_appid_topN[i]]=i\n",
    "important_appid_topN = set(important_appid_topN)"
   ]
  },
  {
   "cell_type": "code",
   "execution_count": 30,
   "metadata": {},
   "outputs": [],
   "source": [
    "# user_app_usage = pd.read_csv(\"../data/user_app_usage.csv\", nrows=500000, header = None)\n",
    "# user_app_usage = pd.read_csv(\"../data/user_app_usage.csv\", header = None)\n",
    "# user_app_usage = user_app_usage.values\n",
    "# user_app_usage = np.loadtxt('../data/user_app_usage.csv', dtype=str, delimiter=',',  usecols=(0, 1, 3), skiprows=1, comments='#')"
   ]
  },
  {
   "cell_type": "code",
   "execution_count": 31,
   "metadata": {
    "scrolled": true
   },
   "outputs": [
    {
     "name": "stderr",
     "output_type": "stream",
     "text": [
      "100%|██████████| 22213813/22213813 [00:43<00:00, 506752.94it/s]\n"
     ]
    }
   ],
   "source": [
    "for i in tqdm(range(user_app_usage.shape[0])):\n",
    "    if user_app_usage[i, 1] in important_appid_topN:\n",
    "        row = uid_index_dict[user_app_usage[i, 0]]\n",
    "        clum = appid_dict[user_app_usage[i, 1]]\n",
    "        times = user_app_usage[i, 3]\n",
    "        if times > 675:\n",
    "            add_columns[row, clum] += 675\n",
    "        else:\n",
    "            add_columns[row, clum] += times"
   ]
  },
  {
   "cell_type": "code",
   "execution_count": 32,
   "metadata": {},
   "outputs": [
    {
     "data": {
      "text/plain": [
       "2526"
      ]
     },
     "execution_count": 32,
     "metadata": {},
     "output_type": "execute_result"
    }
   ],
   "source": [
    "del user_app_usage\n",
    "gc.collect()"
   ]
  },
  {
   "cell_type": "code",
   "execution_count": 33,
   "metadata": {},
   "outputs": [],
   "source": [
    "add_columns = csr_matrix(add_columns)"
   ]
  },
  {
   "cell_type": "code",
   "execution_count": 34,
   "metadata": {},
   "outputs": [
    {
     "name": "stdout",
     "output_type": "stream",
     "text": [
      "2019-08-21 14:45:20\n"
     ]
    }
   ],
   "source": [
    "# add_columns = csr_matrix(add_columns)\n",
    "scale = preprocessing.MaxAbsScaler()\n",
    "add_columns = scale.fit_transform(add_columns)\n",
    "gc.collect()\n",
    "pt.printTime()"
   ]
  },
  {
   "cell_type": "code",
   "execution_count": 35,
   "metadata": {},
   "outputs": [],
   "source": [
    "trainData = add_columns[:2010000]\n",
    "testData = add_columns[2010000:]\n",
    "sparse.save_npz('../trainTestData/trainData5000.npz', trainData)  #保存\n",
    "sparse.save_npz('../trainTestData/testData5000.npz', testData)  #保存"
   ]
  },
  {
   "cell_type": "code",
   "execution_count": 36,
   "metadata": {},
   "outputs": [
    {
     "data": {
      "text/plain": [
       "((502500, 5000), (502500, 5000))"
      ]
     },
     "execution_count": 36,
     "metadata": {},
     "output_type": "execute_result"
    }
   ],
   "source": [
    "testData.shape, testData.shape"
   ]
  },
  {
   "cell_type": "code",
   "execution_count": 37,
   "metadata": {},
   "outputs": [
    {
     "name": "stdout",
     "output_type": "stream",
     "text": [
      "2019-08-21 14:45:36\n"
     ]
    }
   ],
   "source": [
    "pt.printTime()"
   ]
  },
  {
   "cell_type": "code",
   "execution_count": null,
   "metadata": {},
   "outputs": [],
   "source": []
  },
  {
   "cell_type": "code",
   "execution_count": null,
   "metadata": {},
   "outputs": [],
   "source": []
  }
 ],
 "metadata": {
  "kernelspec": {
   "display_name": "diagnosis",
   "language": "python",
   "name": "diagnosis"
  },
  "language_info": {
   "codemirror_mode": {
    "name": "ipython",
    "version": 3
   },
   "file_extension": ".py",
   "mimetype": "text/x-python",
   "name": "python",
   "nbconvert_exporter": "python",
   "pygments_lexer": "ipython3",
   "version": "3.7.1"
  },
  "toc": {
   "base_numbering": 1,
   "nav_menu": {
    "height": "128px",
    "width": "186px"
   },
   "number_sections": true,
   "sideBar": true,
   "skip_h1_title": false,
   "title_cell": "Table of Contents",
   "title_sidebar": "Contents",
   "toc_cell": false,
   "toc_position": {},
   "toc_section_display": true,
   "toc_window_display": false
  },
  "varInspector": {
   "cols": {
    "lenName": 16,
    "lenType": 16,
    "lenVar": 40
   },
   "kernels_config": {
    "python": {
     "delete_cmd_postfix": "",
     "delete_cmd_prefix": "del ",
     "library": "var_list.py",
     "varRefreshCmd": "print(var_dic_list())"
    },
    "r": {
     "delete_cmd_postfix": ") ",
     "delete_cmd_prefix": "rm(",
     "library": "var_list.r",
     "varRefreshCmd": "cat(var_dic_list()) "
    }
   },
   "types_to_exclude": [
    "module",
    "function",
    "builtin_function_or_method",
    "instance",
    "_Feature"
   ],
   "window_display": false
  }
 },
 "nbformat": 4,
 "nbformat_minor": 2
}
